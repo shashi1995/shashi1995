{
  "nbformat": 4,
  "nbformat_minor": 0,
  "metadata": {
    "colab": {
      "name": "MLP.ipynb",
      "provenance": []
    },
    "kernelspec": {
      "name": "python3",
      "display_name": "Python 3"
    }
  },
  "cells": [
    {
      "cell_type": "code",
      "metadata": {
        "id": "aUff4mFgWZTV",
        "outputId": "e2a125b9-0a82-4fcc-de49-c00226e125fd",
        "colab": {
          "base_uri": "https://localhost:8080/",
          "height": 666
        }
      },
      "source": [
        "!pip install tensorflow"
      ],
      "execution_count": 1,
      "outputs": [
        {
          "output_type": "stream",
          "text": [
            "Requirement already satisfied: tensorflow in /usr/local/lib/python3.6/dist-packages (2.3.0)\n",
            "Requirement already satisfied: gast==0.3.3 in /usr/local/lib/python3.6/dist-packages (from tensorflow) (0.3.3)\n",
            "Requirement already satisfied: wheel>=0.26 in /usr/local/lib/python3.6/dist-packages (from tensorflow) (0.35.1)\n",
            "Requirement already satisfied: absl-py>=0.7.0 in /usr/local/lib/python3.6/dist-packages (from tensorflow) (0.10.0)\n",
            "Requirement already satisfied: termcolor>=1.1.0 in /usr/local/lib/python3.6/dist-packages (from tensorflow) (1.1.0)\n",
            "Requirement already satisfied: protobuf>=3.9.2 in /usr/local/lib/python3.6/dist-packages (from tensorflow) (3.12.4)\n",
            "Requirement already satisfied: six>=1.12.0 in /usr/local/lib/python3.6/dist-packages (from tensorflow) (1.15.0)\n",
            "Requirement already satisfied: grpcio>=1.8.6 in /usr/local/lib/python3.6/dist-packages (from tensorflow) (1.32.0)\n",
            "Requirement already satisfied: tensorflow-estimator<2.4.0,>=2.3.0 in /usr/local/lib/python3.6/dist-packages (from tensorflow) (2.3.0)\n",
            "Requirement already satisfied: numpy<1.19.0,>=1.16.0 in /usr/local/lib/python3.6/dist-packages (from tensorflow) (1.18.5)\n",
            "Requirement already satisfied: tensorboard<3,>=2.3.0 in /usr/local/lib/python3.6/dist-packages (from tensorflow) (2.3.0)\n",
            "Requirement already satisfied: opt-einsum>=2.3.2 in /usr/local/lib/python3.6/dist-packages (from tensorflow) (3.3.0)\n",
            "Requirement already satisfied: scipy==1.4.1 in /usr/local/lib/python3.6/dist-packages (from tensorflow) (1.4.1)\n",
            "Requirement already satisfied: astunparse==1.6.3 in /usr/local/lib/python3.6/dist-packages (from tensorflow) (1.6.3)\n",
            "Requirement already satisfied: keras-preprocessing<1.2,>=1.1.1 in /usr/local/lib/python3.6/dist-packages (from tensorflow) (1.1.2)\n",
            "Requirement already satisfied: google-pasta>=0.1.8 in /usr/local/lib/python3.6/dist-packages (from tensorflow) (0.2.0)\n",
            "Requirement already satisfied: wrapt>=1.11.1 in /usr/local/lib/python3.6/dist-packages (from tensorflow) (1.12.1)\n",
            "Requirement already satisfied: h5py<2.11.0,>=2.10.0 in /usr/local/lib/python3.6/dist-packages (from tensorflow) (2.10.0)\n",
            "Requirement already satisfied: setuptools in /usr/local/lib/python3.6/dist-packages (from protobuf>=3.9.2->tensorflow) (50.3.0)\n",
            "Requirement already satisfied: tensorboard-plugin-wit>=1.6.0 in /usr/local/lib/python3.6/dist-packages (from tensorboard<3,>=2.3.0->tensorflow) (1.7.0)\n",
            "Requirement already satisfied: requests<3,>=2.21.0 in /usr/local/lib/python3.6/dist-packages (from tensorboard<3,>=2.3.0->tensorflow) (2.23.0)\n",
            "Requirement already satisfied: werkzeug>=0.11.15 in /usr/local/lib/python3.6/dist-packages (from tensorboard<3,>=2.3.0->tensorflow) (1.0.1)\n",
            "Requirement already satisfied: markdown>=2.6.8 in /usr/local/lib/python3.6/dist-packages (from tensorboard<3,>=2.3.0->tensorflow) (3.2.2)\n",
            "Requirement already satisfied: google-auth<2,>=1.6.3 in /usr/local/lib/python3.6/dist-packages (from tensorboard<3,>=2.3.0->tensorflow) (1.17.2)\n",
            "Requirement already satisfied: google-auth-oauthlib<0.5,>=0.4.1 in /usr/local/lib/python3.6/dist-packages (from tensorboard<3,>=2.3.0->tensorflow) (0.4.1)\n",
            "Requirement already satisfied: idna<3,>=2.5 in /usr/local/lib/python3.6/dist-packages (from requests<3,>=2.21.0->tensorboard<3,>=2.3.0->tensorflow) (2.10)\n",
            "Requirement already satisfied: certifi>=2017.4.17 in /usr/local/lib/python3.6/dist-packages (from requests<3,>=2.21.0->tensorboard<3,>=2.3.0->tensorflow) (2020.6.20)\n",
            "Requirement already satisfied: chardet<4,>=3.0.2 in /usr/local/lib/python3.6/dist-packages (from requests<3,>=2.21.0->tensorboard<3,>=2.3.0->tensorflow) (3.0.4)\n",
            "Requirement already satisfied: urllib3!=1.25.0,!=1.25.1,<1.26,>=1.21.1 in /usr/local/lib/python3.6/dist-packages (from requests<3,>=2.21.0->tensorboard<3,>=2.3.0->tensorflow) (1.24.3)\n",
            "Requirement already satisfied: importlib-metadata; python_version < \"3.8\" in /usr/local/lib/python3.6/dist-packages (from markdown>=2.6.8->tensorboard<3,>=2.3.0->tensorflow) (2.0.0)\n",
            "Requirement already satisfied: cachetools<5.0,>=2.0.0 in /usr/local/lib/python3.6/dist-packages (from google-auth<2,>=1.6.3->tensorboard<3,>=2.3.0->tensorflow) (4.1.1)\n",
            "Requirement already satisfied: rsa<5,>=3.1.4; python_version >= \"3\" in /usr/local/lib/python3.6/dist-packages (from google-auth<2,>=1.6.3->tensorboard<3,>=2.3.0->tensorflow) (4.6)\n",
            "Requirement already satisfied: pyasn1-modules>=0.2.1 in /usr/local/lib/python3.6/dist-packages (from google-auth<2,>=1.6.3->tensorboard<3,>=2.3.0->tensorflow) (0.2.8)\n",
            "Requirement already satisfied: requests-oauthlib>=0.7.0 in /usr/local/lib/python3.6/dist-packages (from google-auth-oauthlib<0.5,>=0.4.1->tensorboard<3,>=2.3.0->tensorflow) (1.3.0)\n",
            "Requirement already satisfied: zipp>=0.5 in /usr/local/lib/python3.6/dist-packages (from importlib-metadata; python_version < \"3.8\"->markdown>=2.6.8->tensorboard<3,>=2.3.0->tensorflow) (3.2.0)\n",
            "Requirement already satisfied: pyasn1>=0.1.3 in /usr/local/lib/python3.6/dist-packages (from rsa<5,>=3.1.4; python_version >= \"3\"->google-auth<2,>=1.6.3->tensorboard<3,>=2.3.0->tensorflow) (0.4.8)\n",
            "Requirement already satisfied: oauthlib>=3.0.0 in /usr/local/lib/python3.6/dist-packages (from requests-oauthlib>=0.7.0->google-auth-oauthlib<0.5,>=0.4.1->tensorboard<3,>=2.3.0->tensorflow) (3.1.0)\n"
          ],
          "name": "stdout"
        }
      ]
    },
    {
      "cell_type": "code",
      "metadata": {
        "id": "y_4m1G4poXrt"
      },
      "source": [
        "import numpy as np\n",
        "from keras.datasets import cifar10\n",
        "from keras.utils.np_utils import to_categorical   \n",
        "import matplotlib.pyplot as plt"
      ],
      "execution_count": 14,
      "outputs": []
    },
    {
      "cell_type": "code",
      "metadata": {
        "id": "uGCZZI5hESec",
        "outputId": "6ea66ad0-5f21-4a7a-9f9c-77cfa6f990c5",
        "colab": {
          "base_uri": "https://localhost:8080/",
          "height": 51
        }
      },
      "source": [
        "(x_train, y_train), (x_test, y_test) = cifar10.load_data()"
      ],
      "execution_count": 3,
      "outputs": [
        {
          "output_type": "stream",
          "text": [
            "Downloading data from https://www.cs.toronto.edu/~kriz/cifar-10-python.tar.gz\n",
            "170500096/170498071 [==============================] - 2s 0us/step\n"
          ],
          "name": "stdout"
        }
      ]
    },
    {
      "cell_type": "code",
      "metadata": {
        "id": "mBP_oanFo2Nt",
        "outputId": "45922edc-a518-46cc-c43a-2c679520c81f",
        "colab": {
          "base_uri": "https://localhost:8080/",
          "height": 85
        }
      },
      "source": [
        "print(x_train.shape)\n",
        "print(y_train.shape)\n",
        "print(x_test.shape)\n",
        "print(y_test.shape)"
      ],
      "execution_count": 6,
      "outputs": [
        {
          "output_type": "stream",
          "text": [
            "(50000, 32, 32, 3)\n",
            "(50000, 1)\n",
            "(10000, 32, 32, 3)\n",
            "(10000, 1)\n"
          ],
          "name": "stdout"
        }
      ]
    },
    {
      "cell_type": "code",
      "metadata": {
        "id": "-CA4BPk7pQsk"
      },
      "source": [
        "# Transform label indices to one-hot encoded vectors\n",
        "y_train = to_categorical(y_train, num_classes=10)\n",
        "y_test = to_categorical(y_test, num_classes=10)"
      ],
      "execution_count": 7,
      "outputs": []
    },
    {
      "cell_type": "code",
      "metadata": {
        "id": "sRJP2jftE2ve"
      },
      "source": [
        "# Transform images from (32,32,3) to 3072-dimensional vectors (32*32*3)\n",
        "# Normalization of pixel values (to [0-1] range)\n",
        "x_train = np.reshape(x_train,(50000,3072))\n",
        "x_test = np.reshape(x_test,(10000,3072))\n",
        "x_train = x_train.astype('float32')\n",
        "x_test = x_test.astype('float32')\n",
        "x_train /= 255.0\n",
        "x_test /= 255.0"
      ],
      "execution_count": 8,
      "outputs": []
    },
    {
      "cell_type": "code",
      "metadata": {
        "id": "YUTgqEiiWUHz",
        "outputId": "16076fc7-1b96-4e55-8883-2f312c1079fb",
        "colab": {
          "base_uri": "https://localhost:8080/",
          "height": 493
        }
      },
      "source": [
        "#Multilayer perecptron\n",
        "from keras.models import Sequential\n",
        "from keras.layers import Dense, Activation\n",
        "model_mlp=Sequential()\n",
        "model_mlp.add(Dense(2056, input_dim=3072))#1st layer\n",
        "model_mlp.add(Activation('relu'))\n",
        "model_mlp.add(Dense(1024))#2nd layer\n",
        "model_mlp.add(Activation('relu'))\n",
        "model_mlp.add(Dense(512))#3rd layer\n",
        "model_mlp.add(Activation('relu'))\n",
        "model_mlp.add(Dense(512))#4th layer\n",
        "model_mlp.add(Activation('relu'))\n",
        "model_mlp.add(Dense(10))\n",
        "model_mlp.add(Activation('softmax'))\n",
        "model_mlp.summary()"
      ],
      "execution_count": 9,
      "outputs": [
        {
          "output_type": "stream",
          "text": [
            "Model: \"sequential\"\n",
            "_________________________________________________________________\n",
            "Layer (type)                 Output Shape              Param #   \n",
            "=================================================================\n",
            "dense (Dense)                (None, 2056)              6318088   \n",
            "_________________________________________________________________\n",
            "activation (Activation)      (None, 2056)              0         \n",
            "_________________________________________________________________\n",
            "dense_1 (Dense)              (None, 1024)              2106368   \n",
            "_________________________________________________________________\n",
            "activation_1 (Activation)    (None, 1024)              0         \n",
            "_________________________________________________________________\n",
            "dense_2 (Dense)              (None, 512)               524800    \n",
            "_________________________________________________________________\n",
            "activation_2 (Activation)    (None, 512)               0         \n",
            "_________________________________________________________________\n",
            "dense_3 (Dense)              (None, 512)               262656    \n",
            "_________________________________________________________________\n",
            "activation_3 (Activation)    (None, 512)               0         \n",
            "_________________________________________________________________\n",
            "dense_4 (Dense)              (None, 10)                5130      \n",
            "_________________________________________________________________\n",
            "activation_4 (Activation)    (None, 10)                0         \n",
            "=================================================================\n",
            "Total params: 9,217,042\n",
            "Trainable params: 9,217,042\n",
            "Non-trainable params: 0\n",
            "_________________________________________________________________\n"
          ],
          "name": "stdout"
        }
      ]
    },
    {
      "cell_type": "code",
      "metadata": {
        "id": "jLi4gHNioFxl",
        "outputId": "639c841e-81d8-47ca-e442-f4c614f9f677",
        "colab": {
          "base_uri": "https://localhost:8080/",
          "height": 1000
        }
      },
      "source": [
        "model_mlp.compile(optimizer='adam',loss='categorical_crossentropy', metrics='accuracy')\n",
        "history=model_mlp.fit(x_train,y_train,batch_size=1000,epochs=50, validation_split=0.1)"
      ],
      "execution_count": 11,
      "outputs": [
        {
          "output_type": "stream",
          "text": [
            "Epoch 1/50\n",
            "45/45 [==============================] - 34s 751ms/step - loss: 1.9581 - accuracy: 0.3090 - val_loss: 1.7748 - val_accuracy: 0.3448\n",
            "Epoch 2/50\n",
            "45/45 [==============================] - 34s 751ms/step - loss: 1.7202 - accuracy: 0.3792 - val_loss: 1.7331 - val_accuracy: 0.3908\n",
            "Epoch 3/50\n",
            "45/45 [==============================] - 34s 749ms/step - loss: 1.6439 - accuracy: 0.4095 - val_loss: 1.6549 - val_accuracy: 0.4100\n",
            "Epoch 4/50\n",
            "45/45 [==============================] - 34s 758ms/step - loss: 1.5928 - accuracy: 0.4280 - val_loss: 1.5932 - val_accuracy: 0.4314\n",
            "Epoch 5/50\n",
            "45/45 [==============================] - 34s 750ms/step - loss: 1.5340 - accuracy: 0.4513 - val_loss: 1.5438 - val_accuracy: 0.4504\n",
            "Epoch 6/50\n",
            "45/45 [==============================] - 34s 752ms/step - loss: 1.4941 - accuracy: 0.4633 - val_loss: 1.5253 - val_accuracy: 0.4538\n",
            "Epoch 7/50\n",
            "45/45 [==============================] - 34s 750ms/step - loss: 1.4562 - accuracy: 0.4806 - val_loss: 1.4944 - val_accuracy: 0.4680\n",
            "Epoch 8/50\n",
            "45/45 [==============================] - 34s 750ms/step - loss: 1.4159 - accuracy: 0.4945 - val_loss: 1.4712 - val_accuracy: 0.4754\n",
            "Epoch 9/50\n",
            "45/45 [==============================] - 34s 752ms/step - loss: 1.3879 - accuracy: 0.5040 - val_loss: 1.4443 - val_accuracy: 0.4870\n",
            "Epoch 10/50\n",
            "45/45 [==============================] - 34s 749ms/step - loss: 1.3640 - accuracy: 0.5137 - val_loss: 1.4323 - val_accuracy: 0.4874\n",
            "Epoch 11/50\n",
            "45/45 [==============================] - 34s 750ms/step - loss: 1.3207 - accuracy: 0.5296 - val_loss: 1.4254 - val_accuracy: 0.4982\n",
            "Epoch 12/50\n",
            "45/45 [==============================] - 34s 752ms/step - loss: 1.2925 - accuracy: 0.5397 - val_loss: 1.4108 - val_accuracy: 0.5010\n",
            "Epoch 13/50\n",
            "45/45 [==============================] - 34s 757ms/step - loss: 1.2672 - accuracy: 0.5474 - val_loss: 1.4498 - val_accuracy: 0.4928\n",
            "Epoch 14/50\n",
            "45/45 [==============================] - 34s 750ms/step - loss: 1.2642 - accuracy: 0.5494 - val_loss: 1.4090 - val_accuracy: 0.5074\n",
            "Epoch 15/50\n",
            "45/45 [==============================] - 34s 749ms/step - loss: 1.2116 - accuracy: 0.5660 - val_loss: 1.3884 - val_accuracy: 0.5106\n",
            "Epoch 16/50\n",
            "45/45 [==============================] - 34s 751ms/step - loss: 1.1822 - accuracy: 0.5770 - val_loss: 1.3828 - val_accuracy: 0.5230\n",
            "Epoch 17/50\n",
            "45/45 [==============================] - 34s 750ms/step - loss: 1.1576 - accuracy: 0.5880 - val_loss: 1.3931 - val_accuracy: 0.5158\n",
            "Epoch 18/50\n",
            "45/45 [==============================] - 34s 752ms/step - loss: 1.1177 - accuracy: 0.6012 - val_loss: 1.3669 - val_accuracy: 0.5222\n",
            "Epoch 19/50\n",
            "45/45 [==============================] - 34s 749ms/step - loss: 1.0816 - accuracy: 0.6158 - val_loss: 1.3653 - val_accuracy: 0.5290\n",
            "Epoch 20/50\n",
            "45/45 [==============================] - 34s 750ms/step - loss: 1.0534 - accuracy: 0.6230 - val_loss: 1.4148 - val_accuracy: 0.5176\n",
            "Epoch 21/50\n",
            "45/45 [==============================] - 34s 749ms/step - loss: 1.0340 - accuracy: 0.6297 - val_loss: 1.4140 - val_accuracy: 0.5198\n",
            "Epoch 22/50\n",
            "45/45 [==============================] - 34s 750ms/step - loss: 1.0026 - accuracy: 0.6413 - val_loss: 1.3979 - val_accuracy: 0.5332\n",
            "Epoch 23/50\n",
            "45/45 [==============================] - 34s 752ms/step - loss: 0.9663 - accuracy: 0.6571 - val_loss: 1.4177 - val_accuracy: 0.5252\n",
            "Epoch 24/50\n",
            "45/45 [==============================] - 34s 748ms/step - loss: 0.9437 - accuracy: 0.6622 - val_loss: 1.3984 - val_accuracy: 0.5324\n",
            "Epoch 25/50\n",
            "45/45 [==============================] - 34s 749ms/step - loss: 0.8894 - accuracy: 0.6823 - val_loss: 1.4430 - val_accuracy: 0.5288\n",
            "Epoch 26/50\n",
            "45/45 [==============================] - 34s 749ms/step - loss: 0.8589 - accuracy: 0.6936 - val_loss: 1.4812 - val_accuracy: 0.5234\n",
            "Epoch 27/50\n",
            "45/45 [==============================] - 34s 749ms/step - loss: 0.8458 - accuracy: 0.6961 - val_loss: 1.4568 - val_accuracy: 0.5302\n",
            "Epoch 28/50\n",
            "45/45 [==============================] - 34s 750ms/step - loss: 0.8061 - accuracy: 0.7120 - val_loss: 1.4916 - val_accuracy: 0.5234\n",
            "Epoch 29/50\n",
            "45/45 [==============================] - 34s 749ms/step - loss: 0.7971 - accuracy: 0.7148 - val_loss: 1.5484 - val_accuracy: 0.5296\n",
            "Epoch 30/50\n",
            "45/45 [==============================] - 34s 751ms/step - loss: 0.7447 - accuracy: 0.7355 - val_loss: 1.5109 - val_accuracy: 0.5336\n",
            "Epoch 31/50\n",
            "45/45 [==============================] - 34s 749ms/step - loss: 0.7176 - accuracy: 0.7430 - val_loss: 1.5995 - val_accuracy: 0.5280\n",
            "Epoch 32/50\n",
            "45/45 [==============================] - 34s 755ms/step - loss: 0.6626 - accuracy: 0.7644 - val_loss: 1.5947 - val_accuracy: 0.5368\n",
            "Epoch 33/50\n",
            "45/45 [==============================] - 34s 745ms/step - loss: 0.6290 - accuracy: 0.7764 - val_loss: 1.7150 - val_accuracy: 0.5214\n",
            "Epoch 34/50\n",
            "45/45 [==============================] - 34s 745ms/step - loss: 0.5822 - accuracy: 0.7936 - val_loss: 1.7498 - val_accuracy: 0.5096\n",
            "Epoch 35/50\n",
            "45/45 [==============================] - 34s 748ms/step - loss: 0.5469 - accuracy: 0.8069 - val_loss: 1.7876 - val_accuracy: 0.5310\n",
            "Epoch 36/50\n",
            "45/45 [==============================] - 34s 747ms/step - loss: 0.5584 - accuracy: 0.7994 - val_loss: 1.8158 - val_accuracy: 0.5156\n",
            "Epoch 37/50\n",
            "45/45 [==============================] - 34s 750ms/step - loss: 0.5112 - accuracy: 0.8209 - val_loss: 1.9063 - val_accuracy: 0.5250\n",
            "Epoch 38/50\n",
            "45/45 [==============================] - 34s 748ms/step - loss: 0.4708 - accuracy: 0.8357 - val_loss: 1.9520 - val_accuracy: 0.5150\n",
            "Epoch 39/50\n",
            "45/45 [==============================] - 34s 751ms/step - loss: 0.4578 - accuracy: 0.8383 - val_loss: 1.9807 - val_accuracy: 0.5160\n",
            "Epoch 40/50\n",
            "45/45 [==============================] - 34s 749ms/step - loss: 0.4300 - accuracy: 0.8488 - val_loss: 2.0978 - val_accuracy: 0.5164\n",
            "Epoch 41/50\n",
            "45/45 [==============================] - 34s 757ms/step - loss: 0.4086 - accuracy: 0.8548 - val_loss: 2.0780 - val_accuracy: 0.5178\n",
            "Epoch 42/50\n",
            "45/45 [==============================] - 34s 752ms/step - loss: 0.3806 - accuracy: 0.8668 - val_loss: 2.1861 - val_accuracy: 0.5244\n",
            "Epoch 43/50\n",
            "45/45 [==============================] - 34s 750ms/step - loss: 0.3519 - accuracy: 0.8768 - val_loss: 2.2519 - val_accuracy: 0.5150\n",
            "Epoch 44/50\n",
            "45/45 [==============================] - 34s 750ms/step - loss: 0.3262 - accuracy: 0.8862 - val_loss: 2.2972 - val_accuracy: 0.5168\n",
            "Epoch 45/50\n",
            "45/45 [==============================] - 34s 749ms/step - loss: 0.3063 - accuracy: 0.8945 - val_loss: 2.3470 - val_accuracy: 0.5276\n",
            "Epoch 46/50\n",
            "45/45 [==============================] - 34s 753ms/step - loss: 0.2702 - accuracy: 0.9080 - val_loss: 2.4814 - val_accuracy: 0.5126\n",
            "Epoch 47/50\n",
            "45/45 [==============================] - 34s 750ms/step - loss: 0.2553 - accuracy: 0.9123 - val_loss: 2.5940 - val_accuracy: 0.5124\n",
            "Epoch 48/50\n",
            "45/45 [==============================] - 34s 745ms/step - loss: 0.2413 - accuracy: 0.9168 - val_loss: 2.6638 - val_accuracy: 0.5108\n",
            "Epoch 49/50\n",
            "45/45 [==============================] - 33s 738ms/step - loss: 0.2294 - accuracy: 0.9213 - val_loss: 2.6756 - val_accuracy: 0.5194\n",
            "Epoch 50/50\n",
            "45/45 [==============================] - 33s 740ms/step - loss: 0.2040 - accuracy: 0.9305 - val_loss: 2.7419 - val_accuracy: 0.5188\n"
          ],
          "name": "stdout"
        }
      ]
    },
    {
      "cell_type": "code",
      "metadata": {
        "id": "LvF41lG2F_Pb",
        "outputId": "d5d467c7-56c0-45cc-db07-b5fe6b212021",
        "colab": {
          "base_uri": "https://localhost:8080/",
          "height": 295
        }
      },
      "source": [
        "def plotLosses(history):  \n",
        "    plt.plot(history.history['loss'])\n",
        "    plt.plot(history.history['val_loss'])\n",
        "    plt.title('model loss')\n",
        "    plt.ylabel('loss')\n",
        "    plt.xlabel('epoch')\n",
        "    plt.legend(['train', 'validation'], loc='upper left')\n",
        "    plt.show()\n",
        "plotLosses(history)"
      ],
      "execution_count": 15,
      "outputs": [
        {
          "output_type": "display_data",
          "data": {
            "image/png": "[encoded data removed]",
            "text/plain": [
              "<Figure size 432x288 with 1 Axes>"
            ]
          },
          "metadata": {
            "tags": [],
            "needs_background": "light"
          }
        }
      ]
    },
    {
      "cell_type": "code",
      "metadata": {
        "id": "AKdvJnAwGKYq",
        "outputId": "0738e0e3-801e-4dba-c220-792fa7efd318",
        "colab": {
          "base_uri": "https://localhost:8080/",
          "height": 34
        }
      },
      "source": [
        "score = model_mlp.evaluate(x_test, y_test)"
      ],
      "execution_count": 17,
      "outputs": [
        {
          "output_type": "stream",
          "text": [
            "313/313 [==============================] - 6s 20ms/step - loss: 2.7252 - accuracy: 0.5151\n"
          ],
          "name": "stdout"
        }
      ]
    },
    {
      "cell_type": "code",
      "metadata": {
        "id": "e3OGDr4KyQtp",
        "outputId": "3aa844f7-2d4d-4353-e79e-dc63dfd4bfd4",
        "colab": {
          "base_uri": "https://localhost:8080/",
          "height": 289
        }
      },
      "source": [
        "#SLP\n",
        "model_slp=Sequential()\n",
        "model_slp.add(Dense(2056, input_dim=3072))\n",
        "model_slp.add(Activation('relu'))\n",
        "model_slp.add(Dense(10, input_shape=(3072,)))\n",
        "model_slp.add(Activation('softmax'))\n",
        "model_slp.summary()"
      ],
      "execution_count": 19,
      "outputs": [
        {
          "output_type": "stream",
          "text": [
            "Model: \"sequential_2\"\n",
            "_________________________________________________________________\n",
            "Layer (type)                 Output Shape              Param #   \n",
            "=================================================================\n",
            "dense_6 (Dense)              (None, 2056)              6318088   \n",
            "_________________________________________________________________\n",
            "activation_6 (Activation)    (None, 2056)              0         \n",
            "_________________________________________________________________\n",
            "dense_7 (Dense)              (None, 10)                20570     \n",
            "_________________________________________________________________\n",
            "activation_7 (Activation)    (None, 10)                0         \n",
            "=================================================================\n",
            "Total params: 6,338,658\n",
            "Trainable params: 6,338,658\n",
            "Non-trainable params: 0\n",
            "_________________________________________________________________\n"
          ],
          "name": "stdout"
        }
      ]
    },
    {
      "cell_type": "code",
      "metadata": {
        "id": "OuCfike_y2hv",
        "outputId": "8ca752ec-1b9b-42d8-9f7a-29801a0cd56a",
        "colab": {
          "base_uri": "https://localhost:8080/",
          "height": 1000
        }
      },
      "source": [
        "model_slp.compile(optimizer='adam',loss='categorical_crossentropy', metrics='accuracy')\n",
        "slp=model_slp.fit(x_train,y_train, batch_size=1000, epochs=50, validation_split=0.1)"
      ],
      "execution_count": 21,
      "outputs": [
        {
          "output_type": "stream",
          "text": [
            "Epoch 1/50\n",
            "45/45 [==============================] - 21s 465ms/step - loss: 4.2795 - accuracy: 0.1795 - val_loss: 2.0249 - val_accuracy: 0.2728\n",
            "Epoch 2/50\n",
            "45/45 [==============================] - 20s 454ms/step - loss: 1.9415 - accuracy: 0.3215 - val_loss: 1.9004 - val_accuracy: 0.3366\n",
            "Epoch 3/50\n",
            "45/45 [==============================] - 20s 452ms/step - loss: 1.8485 - accuracy: 0.3582 - val_loss: 1.8251 - val_accuracy: 0.3626\n",
            "Epoch 4/50\n",
            "45/45 [==============================] - 20s 453ms/step - loss: 1.7748 - accuracy: 0.3831 - val_loss: 1.7662 - val_accuracy: 0.3816\n",
            "Epoch 5/50\n",
            "45/45 [==============================] - 20s 452ms/step - loss: 1.7269 - accuracy: 0.3946 - val_loss: 1.7440 - val_accuracy: 0.4030\n",
            "Epoch 6/50\n",
            "45/45 [==============================] - 20s 451ms/step - loss: 1.6819 - accuracy: 0.4133 - val_loss: 1.7038 - val_accuracy: 0.4048\n",
            "Epoch 7/50\n",
            "45/45 [==============================] - 20s 452ms/step - loss: 1.6566 - accuracy: 0.4190 - val_loss: 1.6828 - val_accuracy: 0.4084\n",
            "Epoch 8/50\n",
            "45/45 [==============================] - 20s 450ms/step - loss: 1.6265 - accuracy: 0.4292 - val_loss: 1.6462 - val_accuracy: 0.4232\n",
            "Epoch 9/50\n",
            "45/45 [==============================] - 20s 448ms/step - loss: 1.6052 - accuracy: 0.4386 - val_loss: 1.6349 - val_accuracy: 0.4292\n",
            "Epoch 10/50\n",
            "45/45 [==============================] - 20s 450ms/step - loss: 1.5884 - accuracy: 0.4411 - val_loss: 1.6336 - val_accuracy: 0.4248\n",
            "Epoch 11/50\n",
            "45/45 [==============================] - 20s 450ms/step - loss: 1.5693 - accuracy: 0.4508 - val_loss: 1.6033 - val_accuracy: 0.4382\n",
            "Epoch 12/50\n",
            "45/45 [==============================] - 20s 451ms/step - loss: 1.5510 - accuracy: 0.4597 - val_loss: 1.6091 - val_accuracy: 0.4344\n",
            "Epoch 13/50\n",
            "45/45 [==============================] - 20s 449ms/step - loss: 1.5331 - accuracy: 0.4640 - val_loss: 1.5896 - val_accuracy: 0.4384\n",
            "Epoch 14/50\n",
            "45/45 [==============================] - 20s 450ms/step - loss: 1.5258 - accuracy: 0.4693 - val_loss: 1.5908 - val_accuracy: 0.4538\n",
            "Epoch 15/50\n",
            "45/45 [==============================] - 20s 450ms/step - loss: 1.5087 - accuracy: 0.4718 - val_loss: 1.5670 - val_accuracy: 0.4458\n",
            "Epoch 16/50\n",
            "45/45 [==============================] - 20s 450ms/step - loss: 1.4920 - accuracy: 0.4805 - val_loss: 1.5447 - val_accuracy: 0.4624\n",
            "Epoch 17/50\n",
            "45/45 [==============================] - 20s 453ms/step - loss: 1.4839 - accuracy: 0.4818 - val_loss: 1.5555 - val_accuracy: 0.4578\n",
            "Epoch 18/50\n",
            "45/45 [==============================] - 20s 453ms/step - loss: 1.4807 - accuracy: 0.4819 - val_loss: 1.5470 - val_accuracy: 0.4628\n",
            "Epoch 19/50\n",
            "45/45 [==============================] - 20s 450ms/step - loss: 1.4550 - accuracy: 0.4918 - val_loss: 1.5112 - val_accuracy: 0.4682\n",
            "Epoch 20/50\n",
            "45/45 [==============================] - 20s 450ms/step - loss: 1.4501 - accuracy: 0.4943 - val_loss: 1.5132 - val_accuracy: 0.4668\n",
            "Epoch 21/50\n",
            "45/45 [==============================] - 20s 448ms/step - loss: 1.4445 - accuracy: 0.4951 - val_loss: 1.5023 - val_accuracy: 0.4714\n",
            "Epoch 22/50\n",
            "45/45 [==============================] - 20s 448ms/step - loss: 1.4285 - accuracy: 0.5009 - val_loss: 1.5099 - val_accuracy: 0.4716\n",
            "Epoch 23/50\n",
            "45/45 [==============================] - 20s 448ms/step - loss: 1.4224 - accuracy: 0.5024 - val_loss: 1.4926 - val_accuracy: 0.4802\n",
            "Epoch 24/50\n",
            "45/45 [==============================] - 20s 449ms/step - loss: 1.4090 - accuracy: 0.5095 - val_loss: 1.4817 - val_accuracy: 0.4880\n",
            "Epoch 25/50\n",
            "45/45 [==============================] - 20s 452ms/step - loss: 1.3969 - accuracy: 0.5129 - val_loss: 1.4806 - val_accuracy: 0.4806\n",
            "Epoch 26/50\n",
            "45/45 [==============================] - 20s 450ms/step - loss: 1.3851 - accuracy: 0.5149 - val_loss: 1.4742 - val_accuracy: 0.4836\n",
            "Epoch 27/50\n",
            "45/45 [==============================] - 20s 451ms/step - loss: 1.3841 - accuracy: 0.5148 - val_loss: 1.4675 - val_accuracy: 0.4918\n",
            "Epoch 28/50\n",
            "45/45 [==============================] - 20s 450ms/step - loss: 1.3690 - accuracy: 0.5221 - val_loss: 1.4555 - val_accuracy: 0.4924\n",
            "Epoch 29/50\n",
            "45/45 [==============================] - 20s 450ms/step - loss: 1.3497 - accuracy: 0.5296 - val_loss: 1.4650 - val_accuracy: 0.4820\n",
            "Epoch 30/50\n",
            "45/45 [==============================] - 20s 450ms/step - loss: 1.3523 - accuracy: 0.5279 - val_loss: 1.4574 - val_accuracy: 0.4938\n",
            "Epoch 31/50\n",
            "45/45 [==============================] - 20s 452ms/step - loss: 1.3334 - accuracy: 0.5364 - val_loss: 1.4560 - val_accuracy: 0.4966\n",
            "Epoch 32/50\n",
            "45/45 [==============================] - 20s 454ms/step - loss: 1.3435 - accuracy: 0.5300 - val_loss: 1.4657 - val_accuracy: 0.4862\n",
            "Epoch 33/50\n",
            "45/45 [==============================] - 21s 457ms/step - loss: 1.3267 - accuracy: 0.5388 - val_loss: 1.4365 - val_accuracy: 0.5016\n",
            "Epoch 34/50\n",
            "45/45 [==============================] - 20s 452ms/step - loss: 1.3112 - accuracy: 0.5444 - val_loss: 1.4211 - val_accuracy: 0.5030\n",
            "Epoch 35/50\n",
            "45/45 [==============================] - 20s 451ms/step - loss: 1.2926 - accuracy: 0.5495 - val_loss: 1.4054 - val_accuracy: 0.5124\n",
            "Epoch 36/50\n",
            "45/45 [==============================] - 20s 451ms/step - loss: 1.2921 - accuracy: 0.5505 - val_loss: 1.4239 - val_accuracy: 0.5080\n",
            "Epoch 37/50\n",
            "45/45 [==============================] - 20s 451ms/step - loss: 1.2836 - accuracy: 0.5540 - val_loss: 1.4259 - val_accuracy: 0.4986\n",
            "Epoch 38/50\n",
            "45/45 [==============================] - 20s 454ms/step - loss: 1.2967 - accuracy: 0.5478 - val_loss: 1.4113 - val_accuracy: 0.5152\n",
            "Epoch 39/50\n",
            "45/45 [==============================] - 20s 451ms/step - loss: 1.2704 - accuracy: 0.5581 - val_loss: 1.3871 - val_accuracy: 0.5260\n",
            "Epoch 40/50\n",
            "45/45 [==============================] - 20s 453ms/step - loss: 1.2540 - accuracy: 0.5644 - val_loss: 1.4249 - val_accuracy: 0.4994\n",
            "Epoch 41/50\n",
            "45/45 [==============================] - 20s 451ms/step - loss: 1.2563 - accuracy: 0.5619 - val_loss: 1.3898 - val_accuracy: 0.5194\n",
            "Epoch 42/50\n",
            "45/45 [==============================] - 20s 450ms/step - loss: 1.2534 - accuracy: 0.5645 - val_loss: 1.4177 - val_accuracy: 0.5090\n",
            "Epoch 43/50\n",
            "45/45 [==============================] - 20s 450ms/step - loss: 1.2386 - accuracy: 0.5694 - val_loss: 1.3837 - val_accuracy: 0.5212\n",
            "Epoch 44/50\n",
            "45/45 [==============================] - 20s 450ms/step - loss: 1.2173 - accuracy: 0.5778 - val_loss: 1.3953 - val_accuracy: 0.5092\n",
            "Epoch 45/50\n",
            "45/45 [==============================] - 20s 448ms/step - loss: 1.2219 - accuracy: 0.5754 - val_loss: 1.3649 - val_accuracy: 0.5292\n",
            "Epoch 46/50\n",
            "45/45 [==============================] - 20s 450ms/step - loss: 1.2111 - accuracy: 0.5780 - val_loss: 1.3972 - val_accuracy: 0.5198\n",
            "Epoch 47/50\n",
            "45/45 [==============================] - 20s 452ms/step - loss: 1.2056 - accuracy: 0.5796 - val_loss: 1.3955 - val_accuracy: 0.5104\n",
            "Epoch 48/50\n",
            "45/45 [==============================] - 20s 453ms/step - loss: 1.2127 - accuracy: 0.5776 - val_loss: 1.3623 - val_accuracy: 0.5286\n",
            "Epoch 49/50\n",
            "45/45 [==============================] - 21s 456ms/step - loss: 1.1864 - accuracy: 0.5889 - val_loss: 1.3914 - val_accuracy: 0.5150\n",
            "Epoch 50/50\n",
            "45/45 [==============================] - 20s 450ms/step - loss: 1.2034 - accuracy: 0.5805 - val_loss: 1.3825 - val_accuracy: 0.5208\n"
          ],
          "name": "stdout"
        }
      ]
    },
    {
      "cell_type": "code",
      "metadata": {
        "id": "K8zvrDYY3DAp",
        "outputId": "7e96b105-faf7-4946-fdaa-35993585aff5",
        "colab": {
          "base_uri": "https://localhost:8080/",
          "height": 34
        }
      },
      "source": [
        "model_slp.evaluate(x_test, y_test,verbose=0)"
      ],
      "execution_count": 22,
      "outputs": [
        {
          "output_type": "execute_result",
          "data": {
            "text/plain": [
              "[1.3911956548690796, 0.5105999708175659]"
            ]
          },
          "metadata": {
            "tags": []
          },
          "execution_count": 22
        }
      ]
    },
    {
      "cell_type": "code",
      "metadata": {
        "id": "3s238eFl39Ay",
        "outputId": "65a2cbeb-b7d0-4ac4-b5c2-0c4b3b0ae8d0",
        "colab": {
          "base_uri": "https://localhost:8080/",
          "height": 204
        }
      },
      "source": [
        "from sklearn.metrics import classification_report, confusion_matrix\n",
        "y_pred = model_mlp.predict(x_test, verbose=2)\n",
        "y_pred = np.argmax(y_pred, axis=1)\n",
        "cm = confusion_matrix(np.argmax(y_test,axis=1),y_pred)\n",
        "print(cm)"
      ],
      "execution_count": 24,
      "outputs": [
        {
          "output_type": "stream",
          "text": [
            "313/313 - 5s\n",
            "[[655  40  71  24  35  22  20  16  86  31]\n",
            " [ 47 636  22  17  16  22  18  15  67 140]\n",
            " [ 92  14 432  69 142  77  79  47  24  24]\n",
            " [ 35  23 111 302  68 220 123  44  23  51]\n",
            " [ 40  10 161  67 439  59 119  68  25  12]\n",
            " [ 22   9  83 194  77 397  96  60  18  44]\n",
            " [ 14  13  99  83  96  60 576  17  12  30]\n",
            " [ 50  15  75  47 100  79  35 543  10  46]\n",
            " [133  58  26  27  33  16  17  12 618  60]\n",
            " [ 80 180  30  23  13  16  22  34  49 553]]\n"
          ],
          "name": "stdout"
        }
      ]
    },
    {
      "cell_type": "code",
      "metadata": {
        "id": "4432pfvQ39Ls",
        "outputId": "678fe661-c350-41cb-960e-81777d9feeb6",
        "colab": {
          "base_uri": "https://localhost:8080/",
          "height": 204
        }
      },
      "source": [
        "y_pred = model_slp.predict(x_test, verbose=2)\n",
        "y_pred = np.argmax(y_pred, axis=1)\n",
        "cm = confusion_matrix(np.argmax(y_test,axis=1),y_pred)\n",
        "print(cm)"
      ],
      "execution_count": 25,
      "outputs": [
        {
          "output_type": "stream",
          "text": [
            "313/313 - 4s\n",
            "[[559  19  27  12  27  28  43  23 140 122]\n",
            " [ 29 476   4  17  12  15  17  19  79 332]\n",
            " [ 69  17 254  91 151 119 147  77  19  56]\n",
            " [ 28  13  29 261  58 242 187  48  28 106]\n",
            " [ 40   8  73  49 441  66 165  81  24  53]\n",
            " [ 19   8  46 149  70 457  97  71  23  60]\n",
            " [  8  10  25  48  84  52 699  17  14  43]\n",
            " [ 35  12  22  45  78  78  49 561  13 107]\n",
            " [ 88  48  10  17  18  28  18   8 643 122]\n",
            " [ 18  70   8  26   8  25  15  32  43 755]]\n"
          ],
          "name": "stdout"
        }
      ]
    }
  ]
}