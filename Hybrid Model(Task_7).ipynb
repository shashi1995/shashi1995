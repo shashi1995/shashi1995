{
 "cells": [
  {
   "cell_type": "markdown",
   "metadata": {},
   "source": [
    "# Problem Statement:\n",
    "Create a hybrid model for stock price/performance prediction using numerical analysis of historical stock prices, and sentimental analysis of news headlines"
   ]
  },
  {
   "cell_type": "code",
   "execution_count": null,
   "metadata": {},
   "outputs": [],
   "source": [
    "shash"
   ]
  },
  {
   "cell_type": "code",
   "execution_count": 1,
   "metadata": {
    "colab": {
     "base_uri": "https://localhost:8080/"
    },
    "id": "kP-cOMTZ8oLo",
    "outputId": "f3890028-854f-4099-a2ee-58ebb6c8895a"
   },
   "outputs": [
    {
     "name": "stdout",
     "output_type": "stream",
     "text": [
      "[nltk_data] Downloading package stopwords to /root/nltk_data...\n",
      "[nltk_data]   Package stopwords is already up-to-date!\n",
      "[nltk_data] Downloading package vader_lexicon to /root/nltk_data...\n",
      "[nltk_data]   Package vader_lexicon is already up-to-date!\n",
      "[nltk_data] Downloading package punkt to /root/nltk_data...\n",
      "[nltk_data]   Package punkt is already up-to-date!\n"
     ]
    }
   ],
   "source": [
    "# Importing libraries\n",
    "import os\n",
    "import warnings\n",
    "warnings.filterwarnings('ignore')\n",
    "import pandas as pd\n",
    "import numpy as np\n",
    "import matplotlib.pyplot as plt\n",
    "import itertools\n",
    "import nltk\n",
    "import string, re\n",
    "from nltk.corpus import stopwords\n",
    "nltk.download('stopwords')\n",
    "nltk.download('vader_lexicon')\n",
    "nltk.download('punkt')\n",
    "from textblob import TextBlob\n",
    "from nltk.sentiment.vader import SentimentIntensityAnalyzer\n",
    "from sklearn.metrics import mean_squared_error\n",
    "from sklearn.model_selection import train_test_split\n",
    "from sklearn.ensemble import RandomForestRegressor, AdaBoostRegressor "
   ]
  },
  {
   "cell_type": "code",
   "execution_count": 2,
   "metadata": {
    "colab": {
     "base_uri": "https://localhost:8080/",
     "height": 72,
     "resources": {
      "http://localhost:8080/nbextensions/google.colab/files.js": {
       "data": "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",
       "headers": [
        [
         "content-type",
         "application/javascript"
        ]
       ],
       "ok": true,
       "status": 200,
       "status_text": ""
      }
     }
    },
    "id": "G_T9MKBPsoJ1",
    "outputId": "b005a64a-b6d0-4aa3-db4d-d58f5d8b7024"
   },
   "outputs": [
    {
     "data": {
      "text/html": [
       "\n",
       "     <input type=\"file\" id=\"files-1ee9a286-0139-45d6-92fe-f55f3476604a\" name=\"files[]\" multiple disabled\n",
       "        style=\"border:none\" />\n",
       "     <output id=\"result-1ee9a286-0139-45d6-92fe-f55f3476604a\">\n",
       "      Upload widget is only available when the cell has been executed in the\n",
       "      current browser session. Please rerun this cell to enable.\n",
       "      </output>\n",
       "      <script src=\"/nbextensions/google.colab/files.js\"></script> "
      ],
      "text/plain": [
       "<IPython.core.display.HTML object>"
      ]
     },
     "metadata": {
      "tags": []
     },
     "output_type": "display_data"
    },
    {
     "name": "stdout",
     "output_type": "stream",
     "text": [
      "Saving india-news-headlines.csv to india-news-headlines (1).csv\n"
     ]
    }
   ],
   "source": [
    "from google.colab import files\n",
    "uploaded=files.upload()"
   ]
  },
  {
   "cell_type": "code",
   "execution_count": 3,
   "metadata": {
    "colab": {
     "base_uri": "https://localhost:8080/",
     "height": 72,
     "resources": {
      "http://localhost:8080/nbextensions/google.colab/files.js": {
       "data": "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",
       "headers": [
        [
         "content-type",
         "application/javascript"
        ]
       ],
       "ok": true,
       "status": 200,
       "status_text": ""
      }
     }
    },
    "id": "LMIsT00f3Zh5",
    "outputId": "29663261-00eb-4948-f83e-e448dec13696"
   },
   "outputs": [
    {
     "data": {
      "text/html": [
       "\n",
       "     <input type=\"file\" id=\"files-67cfdf0d-d6c9-4850-b719-9028dd0391c4\" name=\"files[]\" multiple disabled\n",
       "        style=\"border:none\" />\n",
       "     <output id=\"result-67cfdf0d-d6c9-4850-b719-9028dd0391c4\">\n",
       "      Upload widget is only available when the cell has been executed in the\n",
       "      current browser session. Please rerun this cell to enable.\n",
       "      </output>\n",
       "      <script src=\"/nbextensions/google.colab/files.js\"></script> "
      ],
      "text/plain": [
       "<IPython.core.display.HTML object>"
      ]
     },
     "metadata": {
      "tags": []
     },
     "output_type": "display_data"
    },
    {
     "name": "stdout",
     "output_type": "stream",
     "text": [
      "Saving GC=F.csv to GC=F.csv\n"
     ]
    }
   ],
   "source": [
    "import math\n",
    "import pandas_datareader as web\n",
    "import pandas as pd\n",
    "import numpy as np\n",
    "from sklearn.preprocessing import MinMaxScaler\n",
    "from google.colab import files\n",
    "uploaded=files.upload()"
   ]
  },
  {
   "cell_type": "code",
   "execution_count": 60,
   "metadata": {
    "colab": {
     "base_uri": "https://localhost:8080/",
     "height": 419
    },
    "id": "91tE-OXg8FLn",
    "outputId": "56e5861f-ffcc-4497-ada2-597920cba0a5"
   },
   "outputs": [
    {
     "data": {
      "text/html": [
       "<div>\n",
       "<style scoped>\n",
       "    .dataframe tbody tr th:only-of-type {\n",
       "        vertical-align: middle;\n",
       "    }\n",
       "\n",
       "    .dataframe tbody tr th {\n",
       "        vertical-align: top;\n",
       "    }\n",
       "\n",
       "    .dataframe thead th {\n",
       "        text-align: right;\n",
       "    }\n",
       "</style>\n",
       "<table border=\"1\" class=\"dataframe\">\n",
       "  <thead>\n",
       "    <tr style=\"text-align: right;\">\n",
       "      <th></th>\n",
       "      <th>Date</th>\n",
       "      <th>Open</th>\n",
       "      <th>High</th>\n",
       "      <th>Low</th>\n",
       "      <th>Close</th>\n",
       "      <th>Adj Close</th>\n",
       "      <th>Volume</th>\n",
       "    </tr>\n",
       "  </thead>\n",
       "  <tbody>\n",
       "    <tr>\n",
       "      <th>0</th>\n",
       "      <td>2014-01-02</td>\n",
       "      <td>1204.300049</td>\n",
       "      <td>1227.300049</td>\n",
       "      <td>1204.300049</td>\n",
       "      <td>1225.000000</td>\n",
       "      <td>1225.000000</td>\n",
       "      <td>209.0</td>\n",
       "    </tr>\n",
       "    <tr>\n",
       "      <th>1</th>\n",
       "      <td>2014-01-03</td>\n",
       "      <td>1221.699951</td>\n",
       "      <td>1239.000000</td>\n",
       "      <td>1221.699951</td>\n",
       "      <td>1238.400024</td>\n",
       "      <td>1238.400024</td>\n",
       "      <td>142.0</td>\n",
       "    </tr>\n",
       "    <tr>\n",
       "      <th>2</th>\n",
       "      <td>2014-01-05</td>\n",
       "      <td>NaN</td>\n",
       "      <td>NaN</td>\n",
       "      <td>NaN</td>\n",
       "      <td>NaN</td>\n",
       "      <td>NaN</td>\n",
       "      <td>NaN</td>\n",
       "    </tr>\n",
       "    <tr>\n",
       "      <th>3</th>\n",
       "      <td>2014-01-06</td>\n",
       "      <td>1232.800049</td>\n",
       "      <td>1247.000000</td>\n",
       "      <td>1221.900024</td>\n",
       "      <td>1237.800049</td>\n",
       "      <td>1237.800049</td>\n",
       "      <td>127.0</td>\n",
       "    </tr>\n",
       "    <tr>\n",
       "      <th>4</th>\n",
       "      <td>2014-01-07</td>\n",
       "      <td>1239.300049</td>\n",
       "      <td>1242.400024</td>\n",
       "      <td>1226.300049</td>\n",
       "      <td>1229.400024</td>\n",
       "      <td>1229.400024</td>\n",
       "      <td>73.0</td>\n",
       "    </tr>\n",
       "    <tr>\n",
       "      <th>...</th>\n",
       "      <td>...</td>\n",
       "      <td>...</td>\n",
       "      <td>...</td>\n",
       "      <td>...</td>\n",
       "      <td>...</td>\n",
       "      <td>...</td>\n",
       "      <td>...</td>\n",
       "    </tr>\n",
       "    <tr>\n",
       "      <th>2113</th>\n",
       "      <td>2020-12-14</td>\n",
       "      <td>1835.500000</td>\n",
       "      <td>1835.699951</td>\n",
       "      <td>1822.699951</td>\n",
       "      <td>1828.699951</td>\n",
       "      <td>1828.699951</td>\n",
       "      <td>258.0</td>\n",
       "    </tr>\n",
       "    <tr>\n",
       "      <th>2114</th>\n",
       "      <td>2020-12-15</td>\n",
       "      <td>1833.500000</td>\n",
       "      <td>1853.599976</td>\n",
       "      <td>1833.199951</td>\n",
       "      <td>1852.300049</td>\n",
       "      <td>1852.300049</td>\n",
       "      <td>961.0</td>\n",
       "    </tr>\n",
       "    <tr>\n",
       "      <th>2115</th>\n",
       "      <td>2020-12-16</td>\n",
       "      <td>1856.500000</td>\n",
       "      <td>1864.699951</td>\n",
       "      <td>1850.500000</td>\n",
       "      <td>1856.099976</td>\n",
       "      <td>1856.099976</td>\n",
       "      <td>1090.0</td>\n",
       "    </tr>\n",
       "    <tr>\n",
       "      <th>2116</th>\n",
       "      <td>2020-12-17</td>\n",
       "      <td>1874.199951</td>\n",
       "      <td>1896.199951</td>\n",
       "      <td>1874.199951</td>\n",
       "      <td>1887.199951</td>\n",
       "      <td>1887.199951</td>\n",
       "      <td>414.0</td>\n",
       "    </tr>\n",
       "    <tr>\n",
       "      <th>2117</th>\n",
       "      <td>2020-12-18</td>\n",
       "      <td>1882.400024</td>\n",
       "      <td>1889.500000</td>\n",
       "      <td>1882.300049</td>\n",
       "      <td>1885.699951</td>\n",
       "      <td>1885.699951</td>\n",
       "      <td>414.0</td>\n",
       "    </tr>\n",
       "  </tbody>\n",
       "</table>\n",
       "<p>2118 rows × 7 columns</p>\n",
       "</div>"
      ],
      "text/plain": [
       "            Date         Open         High  ...        Close    Adj Close  Volume\n",
       "0     2014-01-02  1204.300049  1227.300049  ...  1225.000000  1225.000000   209.0\n",
       "1     2014-01-03  1221.699951  1239.000000  ...  1238.400024  1238.400024   142.0\n",
       "2     2014-01-05          NaN          NaN  ...          NaN          NaN     NaN\n",
       "3     2014-01-06  1232.800049  1247.000000  ...  1237.800049  1237.800049   127.0\n",
       "4     2014-01-07  1239.300049  1242.400024  ...  1229.400024  1229.400024    73.0\n",
       "...          ...          ...          ...  ...          ...          ...     ...\n",
       "2113  2020-12-14  1835.500000  1835.699951  ...  1828.699951  1828.699951   258.0\n",
       "2114  2020-12-15  1833.500000  1853.599976  ...  1852.300049  1852.300049   961.0\n",
       "2115  2020-12-16  1856.500000  1864.699951  ...  1856.099976  1856.099976  1090.0\n",
       "2116  2020-12-17  1874.199951  1896.199951  ...  1887.199951  1887.199951   414.0\n",
       "2117  2020-12-18  1882.400024  1889.500000  ...  1885.699951  1885.699951   414.0\n",
       "\n",
       "[2118 rows x 7 columns]"
      ]
     },
     "execution_count": 60,
     "metadata": {
      "tags": []
     },
     "output_type": "execute_result"
    }
   ],
   "source": [
    "df_stock=pd.read_csv('GC=F.csv')\n",
    "df_stock"
   ]
  },
  {
   "cell_type": "code",
   "execution_count": 11,
   "metadata": {
    "id": "TqEtfGnj4fV3"
   },
   "outputs": [],
   "source": [
    "import itertools\n",
    "from statsmodels.tsa.stattools import adfuller, acf, pacf\n",
    "from statsmodels.tsa.arima_model import ARIMA"
   ]
  },
  {
   "cell_type": "code",
   "execution_count": 2,
   "metadata": {
    "colab": {
     "base_uri": "https://localhost:8080/"
    },
    "id": "rXS9KzPG4mpr",
    "outputId": "a9647b42-bcc4-4548-f490-bc1cd9331843"
   },
   "outputs": [
    {
     "name": "stdout",
     "output_type": "stream",
     "text": [
      "Requirement already satisfied: pmdarima in /usr/local/lib/python3.6/dist-packages (1.8.0)\n",
      "Requirement already satisfied: urllib3 in /usr/local/lib/python3.6/dist-packages (from pmdarima) (1.24.3)\n",
      "Requirement already satisfied: numpy>=1.17.3 in /usr/local/lib/python3.6/dist-packages (from pmdarima) (1.19.4)\n",
      "Requirement already satisfied: pandas>=0.19 in /usr/local/lib/python3.6/dist-packages (from pmdarima) (1.1.5)\n",
      "Requirement already satisfied: Cython<0.29.18,>=0.29 in /usr/local/lib/python3.6/dist-packages (from pmdarima) (0.29.17)\n",
      "Requirement already satisfied: scikit-learn>=0.22 in /usr/local/lib/python3.6/dist-packages (from pmdarima) (0.22.2.post1)\n",
      "Requirement already satisfied: statsmodels!=0.12.0,>=0.11 in /usr/local/lib/python3.6/dist-packages (from pmdarima) (0.12.1)\n",
      "Requirement already satisfied: joblib>=0.11 in /usr/local/lib/python3.6/dist-packages (from pmdarima) (1.0.0)\n",
      "Requirement already satisfied: setuptools!=50.0.0,>=38.6.0 in /usr/local/lib/python3.6/dist-packages (from pmdarima) (50.3.2)\n",
      "Requirement already satisfied: scipy>=1.3.2 in /usr/local/lib/python3.6/dist-packages (from pmdarima) (1.4.1)\n",
      "Requirement already satisfied: pytz>=2017.2 in /usr/local/lib/python3.6/dist-packages (from pandas>=0.19->pmdarima) (2018.9)\n",
      "Requirement already satisfied: python-dateutil>=2.7.3 in /usr/local/lib/python3.6/dist-packages (from pandas>=0.19->pmdarima) (2.8.1)\n",
      "Requirement already satisfied: patsy>=0.5 in /usr/local/lib/python3.6/dist-packages (from statsmodels!=0.12.0,>=0.11->pmdarima) (0.5.1)\n",
      "Requirement already satisfied: six>=1.5 in /usr/local/lib/python3.6/dist-packages (from python-dateutil>=2.7.3->pandas>=0.19->pmdarima) (1.15.0)\n"
     ]
    }
   ],
   "source": [
    "!pip install pmdarima"
   ]
  },
  {
   "cell_type": "code",
   "execution_count": 61,
   "metadata": {
    "colab": {
     "base_uri": "https://localhost:8080/"
    },
    "id": "acESRpXV5h-1",
    "outputId": "ac00bf2c-d67c-4535-d810-e43da6d39495"
   },
   "outputs": [
    {
     "name": "stdout",
     "output_type": "stream",
     "text": [
      "<class 'pandas.core.frame.DataFrame'>\n",
      "RangeIndex: 2118 entries, 0 to 2117\n",
      "Data columns (total 7 columns):\n",
      " #   Column     Non-Null Count  Dtype              \n",
      "---  ------     --------------  -----              \n",
      " 0   Date       2118 non-null   datetime64[ns, UTC]\n",
      " 1   Open       1824 non-null   float64            \n",
      " 2   High       1824 non-null   float64            \n",
      " 3   Low        1824 non-null   float64            \n",
      " 4   Close      1824 non-null   float64            \n",
      " 5   Adj Close  1824 non-null   float64            \n",
      " 6   Volume     1824 non-null   float64            \n",
      "dtypes: datetime64[ns, UTC](1), float64(6)\n",
      "memory usage: 116.0 KB\n"
     ]
    }
   ],
   "source": [
    "df_stock['Date'] = pd.to_datetime(df_stock['Date'], utc=True)\n",
    "df_stock.info()"
   ]
  },
  {
   "cell_type": "code",
   "execution_count": 62,
   "metadata": {
    "colab": {
     "base_uri": "https://localhost:8080/"
    },
    "id": "fIhMwpkE8dqm",
    "outputId": "89cb1a6f-f57f-4bef-f78c-a5322e062039"
   },
   "outputs": [
    {
     "data": {
      "text/plain": [
       "Date           0\n",
       "Open         294\n",
       "High         294\n",
       "Low          294\n",
       "Close        294\n",
       "Adj Close    294\n",
       "Volume       294\n",
       "dtype: int64"
      ]
     },
     "execution_count": 62,
     "metadata": {
      "tags": []
     },
     "output_type": "execute_result"
    }
   ],
   "source": [
    "df_stock.isnull().sum()"
   ]
  },
  {
   "cell_type": "code",
   "execution_count": 63,
   "metadata": {
    "id": "dRuhg2ieANiZ"
   },
   "outputs": [],
   "source": [
    "df_stock.dropna(inplace=True)"
   ]
  },
  {
   "cell_type": "code",
   "execution_count": 57,
   "metadata": {
    "colab": {
     "base_uri": "https://localhost:8080/",
     "height": 337
    },
    "id": "Euosn8A78mEA",
    "outputId": "da350bcd-6b01-4d27-8953-f103a9f9b5cb"
   },
   "outputs": [
    {
     "data": {
      "text/plain": [
       "[<matplotlib.lines.Line2D at 0x7f2651b3a7b8>]"
      ]
     },
     "execution_count": 57,
     "metadata": {
      "tags": []
     },
     "output_type": "execute_result"
    },
    {
     "data": {
      "image/png": "[encoded data removed]",
      "text/plain": [
       "<Figure size 720x360 with 1 Axes>"
      ]
     },
     "metadata": {
      "needs_background": "light",
      "tags": []
     },
     "output_type": "display_data"
    }
   ],
   "source": [
    "df_stock.index = df_stock['Date']\n",
    "plt.figure(figsize=(10,5))\n",
    "plt.plot(df_stock['Close'], label='Close Price history')"
   ]
  },
  {
   "cell_type": "code",
   "execution_count": 8,
   "metadata": {
    "colab": {
     "base_uri": "https://localhost:8080/",
     "height": 384
    },
    "id": "g24eMMrR9Emq",
    "outputId": "60695f71-b021-4a21-82a4-2e13119453c4"
   },
   "outputs": [
    {
     "data": {
      "text/plain": [
       "<matplotlib.legend.Legend at 0x7f2667cc9320>"
      ]
     },
     "execution_count": 8,
     "metadata": {
      "tags": []
     },
     "output_type": "execute_result"
    },
    {
     "data": {
      "image/png": "[encoded data removed]",
      "text/plain": [
       "<Figure size 720x432 with 1 Axes>"
      ]
     },
     "metadata": {
      "needs_background": "light",
      "tags": []
     },
     "output_type": "display_data"
    }
   ],
   "source": [
    "close = df_stock['Close']\n",
    "ma = close.rolling(window = 50).mean()\n",
    "std = close.rolling(window = 50).std()\n",
    "\n",
    "plt.figure(figsize=(10, 6))\n",
    "df_stock['Close'].plot(color = 'b', label = 'Close')\n",
    "ma.plot(color = 'r', label = 'Rolling Mean')\n",
    "std.plot(label = 'Rolling Standard Deviation')\n",
    "plt.legend()"
   ]
  },
  {
   "cell_type": "code",
   "execution_count": 9,
   "metadata": {
    "id": "FA1akXTU9PFi"
   },
   "outputs": [],
   "source": [
    "train = df_stock[:1500]\n",
    "test = df_stock[1500:]"
   ]
  },
  {
   "cell_type": "code",
   "execution_count": 12,
   "metadata": {
    "colab": {
     "base_uri": "https://localhost:8080/",
     "height": 457
    },
    "id": "h76Wwatc9qb8",
    "outputId": "20d638a7-c53d-4752-8940-fc528ccce8e2"
   },
   "outputs": [
    {
     "data": {
      "image/png": "[encoded data removed]",
      "text/plain": [
       "<Figure size 720x360 with 1 Axes>"
      ]
     },
     "metadata": {
      "needs_background": "light",
      "tags": []
     },
     "output_type": "display_data"
    },
    {
     "name": "stdout",
     "output_type": "stream",
     "text": [
      "Results of dickey fuller test\n",
      "ADF Test Statistic : -1.324550551628027\n",
      "p-value : 0.6178669134549046\n",
      "#Lags Used : 10\n",
      "Number of Observations Used : 1489\n",
      "Data is non-stationary \n"
     ]
    }
   ],
   "source": [
    "# Checking the stationarity of data\n",
    "def test_stationarity(timeseries):\n",
    "  rolmean = timeseries.rolling(20).mean()\n",
    "  rolstd = timeseries.rolling(20).std()\n",
    "  plt.figure(figsize = (10,5))\n",
    "  plt.plot(timeseries, color = 'y', label = 'original')\n",
    "  plt.plot(rolmean, color = 'r', label = 'rolling mean')\n",
    "  plt.plot(rolstd, color = 'b', label = 'rolling std')\n",
    "  plt.xlabel('Date')\n",
    "  plt.legend()\n",
    "  plt.title('Rolling Mean and Standard Deviation',  fontsize = 20)\n",
    "  plt.show(block = False)\n",
    "  print('Results of dickey fuller test')\n",
    "  result = adfuller(timeseries, autolag = 'AIC')\n",
    "  labels = ['ADF Test Statistic','p-value','#Lags Used','Number of Observations Used']\n",
    "  for value,label in zip(result, labels):\n",
    "    print(label+' : '+str(value))\n",
    "  if result[1] <= 0.05:\n",
    "    print(\"Data is stationary\")\n",
    "  else:\n",
    "    print(\"Data is non-stationary \")\n",
    "test_stationarity(train['Close'])"
   ]
  },
  {
   "cell_type": "code",
   "execution_count": 13,
   "metadata": {
    "colab": {
     "base_uri": "https://localhost:8080/",
     "height": 457
    },
    "id": "CjAYJRuJ-9ew",
    "outputId": "8bcb1143-bd07-4058-96ae-efe4d5b6d6de"
   },
   "outputs": [
    {
     "data": {
      "image/png": "[encoded data removed]",
      "text/plain": [
       "<Figure size 720x360 with 1 Axes>"
      ]
     },
     "metadata": {
      "needs_background": "light",
      "tags": []
     },
     "output_type": "display_data"
    },
    {
     "name": "stdout",
     "output_type": "stream",
     "text": [
      "Results of dickey fuller test\n",
      "ADF Test Statistic : -1.5123236597897536\n",
      "p-value : 0.5274064309628217\n",
      "#Lags Used : 10\n",
      "Number of Observations Used : 1489\n",
      "Data is non-stationary \n"
     ]
    }
   ],
   "source": [
    "train_log = np.log(train['Close']) \n",
    "test_log = np.log(test['Close'])\n",
    "\n",
    "train_log.dropna(inplace = True)\n",
    "test_log.dropna(inplace = True)\n",
    "\n",
    "test_stationarity(train_log)"
   ]
  },
  {
   "cell_type": "code",
   "execution_count": 14,
   "metadata": {
    "colab": {
     "base_uri": "https://localhost:8080/",
     "height": 457
    },
    "id": "HAPQaUuG_JD-",
    "outputId": "ee899a0f-9261-4e84-b25c-bad665f58bf5"
   },
   "outputs": [
    {
     "data": {
      "image/png": "[encoded data removed]",
      "text/plain": [
       "<Figure size 720x360 with 1 Axes>"
      ]
     },
     "metadata": {
      "needs_background": "light",
      "tags": []
     },
     "output_type": "display_data"
    },
    {
     "name": "stdout",
     "output_type": "stream",
     "text": [
      "Results of dickey fuller test\n",
      "ADF Test Statistic : -7.990499745014186\n",
      "p-value : 2.481933437256026e-12\n",
      "#Lags Used : 12\n",
      "Number of Observations Used : 1464\n",
      "Data is stationary\n"
     ]
    }
   ],
   "source": [
    "train_roll_mean = train_log.rolling(24).mean() \n",
    "train_log_diff = train_log - train_roll_mean\n",
    "train_log_diff.dropna(inplace = True)\n",
    "test_stationarity(train_log_diff)"
   ]
  },
  {
   "cell_type": "code",
   "execution_count": 15,
   "metadata": {
    "colab": {
     "base_uri": "https://localhost:8080/"
    },
    "id": "_DmYt6jo_yu2",
    "outputId": "a2a74e6c-c000-4a2b-9834-d09170da4d45"
   },
   "outputs": [
    {
     "data": {
      "text/plain": [
       "ARIMA(maxiter=50, method='lbfgs', order=(0, 1, 0), out_of_sample_size=0,\n",
       "      scoring='mse', scoring_args={}, seasonal_order=(0, 0, 0, 0),\n",
       "      start_params=None, suppress_warnings=True, trend=None,\n",
       "      with_intercept=False)"
      ]
     },
     "execution_count": 15,
     "metadata": {
      "tags": []
     },
     "output_type": "execute_result"
    }
   ],
   "source": [
    "from pmdarima import auto_arima\n",
    "model=auto_arima(train_log)\n",
    "model"
   ]
  },
  {
   "cell_type": "code",
   "execution_count": 16,
   "metadata": {
    "colab": {
     "base_uri": "https://localhost:8080/"
    },
    "id": "Pz45dxXGJHWt",
    "outputId": "79bb6418-7f25-440d-977d-edb688b6b341"
   },
   "outputs": [
    {
     "name": "stdout",
     "output_type": "stream",
     "text": [
      "Performing stepwise search to minimize bic\n",
      " ARIMA(2,1,2)(0,0,0)[0] intercept   : BIC=-10114.959, Time=1.40 sec\n",
      " ARIMA(0,1,0)(0,0,0)[0] intercept   : BIC=-10137.356, Time=0.22 sec\n",
      " ARIMA(1,1,0)(0,0,0)[0] intercept   : BIC=-10133.248, Time=0.22 sec\n",
      " ARIMA(0,1,1)(0,0,0)[0] intercept   : BIC=-10133.285, Time=0.43 sec\n",
      " ARIMA(0,1,0)(0,0,0)[0]             : BIC=-10144.278, Time=0.13 sec\n",
      " ARIMA(1,1,1)(0,0,0)[0] intercept   : BIC=-10125.876, Time=0.43 sec\n",
      "\n",
      "Best model:  ARIMA(0,1,0)(0,0,0)[0]          \n",
      "Total fit time: 2.853 seconds\n"
     ]
    },
    {
     "data": {
      "text/plain": [
       "ARIMA(maxiter=50, method='lbfgs', order=(0, 1, 0), out_of_sample_size=0,\n",
       "      scoring='mse', scoring_args={}, seasonal_order=(0, 0, 0, 0),\n",
       "      start_params=None, suppress_warnings=True, trend=None,\n",
       "      with_intercept=False)"
      ]
     },
     "execution_count": 16,
     "metadata": {
      "tags": []
     },
     "output_type": "execute_result"
    }
   ],
   "source": [
    "model = auto_arima(train_log, information_criterion='bic', trace = True)\n",
    "model.fit(train_log)"
   ]
  },
  {
   "cell_type": "code",
   "execution_count": 46,
   "metadata": {
    "colab": {
     "base_uri": "https://localhost:8080/",
     "height": 235
    },
    "id": "nlZJYN32Kze_",
    "outputId": "0d4f5753-71d7-415d-fa2d-a0ce692d1d6a"
   },
   "outputs": [
    {
     "data": {
      "text/html": [
       "<div>\n",
       "<style scoped>\n",
       "    .dataframe tbody tr th:only-of-type {\n",
       "        vertical-align: middle;\n",
       "    }\n",
       "\n",
       "    .dataframe tbody tr th {\n",
       "        vertical-align: top;\n",
       "    }\n",
       "\n",
       "    .dataframe thead th {\n",
       "        text-align: right;\n",
       "    }\n",
       "</style>\n",
       "<table border=\"1\" class=\"dataframe\">\n",
       "  <thead>\n",
       "    <tr style=\"text-align: right;\">\n",
       "      <th></th>\n",
       "      <th>Prediction</th>\n",
       "    </tr>\n",
       "    <tr>\n",
       "      <th>Date</th>\n",
       "      <th></th>\n",
       "    </tr>\n",
       "  </thead>\n",
       "  <tbody>\n",
       "    <tr>\n",
       "      <th>2019-10-31 00:00:00+00:00</th>\n",
       "      <td>7.308677</td>\n",
       "    </tr>\n",
       "    <tr>\n",
       "      <th>2019-11-01 00:00:00+00:00</th>\n",
       "      <td>7.308677</td>\n",
       "    </tr>\n",
       "    <tr>\n",
       "      <th>2019-11-03 00:00:00+00:00</th>\n",
       "      <td>7.308677</td>\n",
       "    </tr>\n",
       "    <tr>\n",
       "      <th>2019-11-04 00:00:00+00:00</th>\n",
       "      <td>7.308677</td>\n",
       "    </tr>\n",
       "    <tr>\n",
       "      <th>2019-11-05 00:00:00+00:00</th>\n",
       "      <td>7.308677</td>\n",
       "    </tr>\n",
       "  </tbody>\n",
       "</table>\n",
       "</div>"
      ],
      "text/plain": [
       "                           Prediction\n",
       "Date                                 \n",
       "2019-10-31 00:00:00+00:00    7.308677\n",
       "2019-11-01 00:00:00+00:00    7.308677\n",
       "2019-11-03 00:00:00+00:00    7.308677\n",
       "2019-11-04 00:00:00+00:00    7.308677\n",
       "2019-11-05 00:00:00+00:00    7.308677"
      ]
     },
     "execution_count": 46,
     "metadata": {
      "tags": []
     },
     "output_type": "execute_result"
    }
   ],
   "source": [
    "predictions = model.predict(n_periods=len(test))\n",
    "predictions = pd.DataFrame(predictions,index = test_log.index,columns=['Prediction'])\n",
    "predictions.head()"
   ]
  },
  {
   "cell_type": "code",
   "execution_count": 18,
   "metadata": {
    "colab": {
     "base_uri": "https://localhost:8080/",
     "height": 298
    },
    "id": "x9FHBqfpMtOe",
    "outputId": "2c2e24b8-f0b6-4599-8405-5fb4ba5ac451"
   },
   "outputs": [
    {
     "name": "stderr",
     "output_type": "stream",
     "text": [
      "/usr/local/lib/python3.6/dist-packages/statsmodels/tsa/base/tsa_model.py:583: ValueWarning: A date index has been provided, but it has no associated frequency information and so will be ignored when e.g. forecasting.\n",
      "  ' ignored when e.g. forecasting.', ValueWarning)\n",
      "/usr/local/lib/python3.6/dist-packages/statsmodels/tsa/base/tsa_model.py:583: ValueWarning: A date index has been provided, but it has no associated frequency information and so will be ignored when e.g. forecasting.\n",
      "  ' ignored when e.g. forecasting.', ValueWarning)\n"
     ]
    },
    {
     "data": {
      "text/html": [
       "<table class=\"simpletable\">\n",
       "<caption>ARIMA Model Results</caption>\n",
       "<tr>\n",
       "  <th>Dep. Variable:</th>      <td>D.Close</td>     <th>  No. Observations:  </th>    <td>1499</td>   \n",
       "</tr>\n",
       "<tr>\n",
       "  <th>Model:</th>          <td>ARIMA(0, 1, 0)</td>  <th>  Log Likelihood     </th>  <td>5075.991</td> \n",
       "</tr>\n",
       "<tr>\n",
       "  <th>Method:</th>               <td>css</td>       <th>  S.D. of innovations</th>    <td>0.008</td>  \n",
       "</tr>\n",
       "<tr>\n",
       "  <th>Date:</th>          <td>Sun, 20 Dec 2020</td> <th>  AIC                </th> <td>-10147.981</td>\n",
       "</tr>\n",
       "<tr>\n",
       "  <th>Time:</th>              <td>14:49:51</td>     <th>  BIC                </th> <td>-10137.356</td>\n",
       "</tr>\n",
       "<tr>\n",
       "  <th>Sample:</th>                <td>1</td>        <th>  HQIC               </th> <td>-10144.023</td>\n",
       "</tr>\n",
       "<tr>\n",
       "  <th></th>                       <td> </td>        <th>                     </th>      <td> </td>    \n",
       "</tr>\n",
       "</table>\n",
       "<table class=\"simpletable\">\n",
       "<tr>\n",
       "    <td></td>       <th>coef</th>     <th>std err</th>      <th>z</th>      <th>P>|z|</th>  <th>[0.025</th>    <th>0.975]</th>  \n",
       "</tr>\n",
       "<tr>\n",
       "  <th>const</th> <td>    0.0001</td> <td>    0.000</td> <td>    0.625</td> <td> 0.532</td> <td>   -0.000</td> <td>    0.001</td>\n",
       "</tr>\n",
       "</table>"
      ],
      "text/plain": [
       "<class 'statsmodels.iolib.summary.Summary'>\n",
       "\"\"\"\n",
       "                             ARIMA Model Results                              \n",
       "==============================================================================\n",
       "Dep. Variable:                D.Close   No. Observations:                 1499\n",
       "Model:                 ARIMA(0, 1, 0)   Log Likelihood                5075.991\n",
       "Method:                           css   S.D. of innovations              0.008\n",
       "Date:                Sun, 20 Dec 2020   AIC                         -10147.981\n",
       "Time:                        14:49:51   BIC                         -10137.356\n",
       "Sample:                             1   HQIC                        -10144.023\n",
       "                                                                              \n",
       "==============================================================================\n",
       "                 coef    std err          z      P>|z|      [0.025      0.975]\n",
       "------------------------------------------------------------------------------\n",
       "const          0.0001      0.000      0.625      0.532      -0.000       0.001\n",
       "==============================================================================\n",
       "\"\"\""
      ]
     },
     "execution_count": 18,
     "metadata": {
      "tags": []
     },
     "output_type": "execute_result"
    }
   ],
   "source": [
    "arima_model= ARIMA(train_log, order=(0, 1, 0)) \n",
    "results_arima=arima_model.fit()\n",
    "results_arima.summary()"
   ]
  },
  {
   "cell_type": "code",
   "execution_count": 19,
   "metadata": {
    "colab": {
     "base_uri": "https://localhost:8080/"
    },
    "id": "HCFKs4Pwboqa",
    "outputId": "181c2950-30fc-4577-8061-621aa8d99a5d"
   },
   "outputs": [
    {
     "data": {
      "text/plain": [
       "(array([7.30880879]), array([0.00818715]), array([[7.29276228, 7.3248553 ]]))"
      ]
     },
     "execution_count": 19,
     "metadata": {
      "tags": []
     },
     "output_type": "execute_result"
    }
   ],
   "source": [
    "results_arima.forecast()"
   ]
  },
  {
   "cell_type": "code",
   "execution_count": 20,
   "metadata": {
    "colab": {
     "base_uri": "https://localhost:8080/"
    },
    "id": "X1eUK2BBeaMW",
    "outputId": "44022e8b-1b5e-4165-904a-2f2fb0a3578d"
   },
   "outputs": [
    {
     "data": {
      "text/plain": [
       "1500"
      ]
     },
     "execution_count": 20,
     "metadata": {
      "tags": []
     },
     "output_type": "execute_result"
    }
   ],
   "source": [
    "len(train_log)"
   ]
  },
  {
   "cell_type": "code",
   "execution_count": 21,
   "metadata": {
    "colab": {
     "base_uri": "https://localhost:8080/"
    },
    "id": "YeWtNz4Vee99",
    "outputId": "83d28929-34fd-44f1-8643-06a64e8d1a2d"
   },
   "outputs": [
    {
     "name": "stderr",
     "output_type": "stream",
     "text": [
      "/usr/local/lib/python3.6/dist-packages/statsmodels/tsa/base/tsa_model.py:379: ValueWarning: No supported index is available. Prediction results will be given with an integer index beginning at `start`.\n",
      "  ValueWarning)\n"
     ]
    },
    {
     "data": {
      "text/plain": [
       "999     0.000132\n",
       "1000    0.000132\n",
       "1001    0.000132\n",
       "1002    0.000132\n",
       "1003    0.000132\n",
       "dtype: float64"
      ]
     },
     "execution_count": 21,
     "metadata": {
      "tags": []
     },
     "output_type": "execute_result"
    }
   ],
   "source": [
    "results_arima.predict(1000,1500).head()"
   ]
  },
  {
   "cell_type": "code",
   "execution_count": 22,
   "metadata": {
    "colab": {
     "base_uri": "https://localhost:8080/",
     "height": 277
    },
    "id": "LM3_Z_2-e5g2",
    "outputId": "d245801e-b427-44ed-9c9b-531a8709cc75"
   },
   "outputs": [
    {
     "data": {
      "image/png": "[encoded data removed]",
      "text/plain": [
       "<Figure size 432x288 with 1 Axes>"
      ]
     },
     "metadata": {
      "needs_background": "light",
      "tags": []
     },
     "output_type": "display_data"
    }
   ],
   "source": [
    "results_arima.plot_predict(start=500)\n",
    "plt.show()"
   ]
  },
  {
   "cell_type": "code",
   "execution_count": 23,
   "metadata": {
    "colab": {
     "base_uri": "https://localhost:8080/",
     "height": 312
    },
    "id": "bNJzM2UOAve6",
    "outputId": "a7c03b73-e502-4703-b5c9-77ab777f49da"
   },
   "outputs": [
    {
     "data": {
      "text/plain": [
       "Text(0, 0.5, 'Actual Stock Price')"
      ]
     },
     "execution_count": 23,
     "metadata": {
      "tags": []
     },
     "output_type": "execute_result"
    },
    {
     "data": {
      "image/png": "[encoded data removed]",
      "text/plain": [
       "<Figure size 432x288 with 1 Axes>"
      ]
     },
     "metadata": {
      "needs_background": "light",
      "tags": []
     },
     "output_type": "display_data"
    }
   ],
   "source": [
    "plt.plot(train_log, label='Train')\n",
    "plt.plot(test_log, label='Test')\n",
    "plt.plot(predictions, label='Prediction')\n",
    "plt.title('Gold Stock Price Prediction')\n",
    "plt.xlabel('Time')\n",
    "plt.ylabel('Actual Stock Price')"
   ]
  },
  {
   "cell_type": "code",
   "execution_count": 24,
   "metadata": {
    "colab": {
     "base_uri": "https://localhost:8080/"
    },
    "id": "poPt3SCuBFb7",
    "outputId": "860b52d2-49dc-4d84-9e00-a56c00dafe6b"
   },
   "outputs": [
    {
     "name": "stdout",
     "output_type": "stream",
     "text": [
      "RMSE :  0.16896973821087338\n"
     ]
    }
   ],
   "source": [
    "rms = np.sqrt(mean_squared_error(test_log,predictions))\n",
    "print(\"RMSE : \", rms)"
   ]
  },
  {
   "cell_type": "code",
   "execution_count": 27,
   "metadata": {
    "colab": {
     "base_uri": "https://localhost:8080/",
     "height": 419
    },
    "id": "rtaQTYhE9EEx",
    "outputId": "0ff327a5-e74a-450f-e929-45697f7b6b5a"
   },
   "outputs": [
    {
     "data": {
      "text/html": [
       "<div>\n",
       "<style scoped>\n",
       "    .dataframe tbody tr th:only-of-type {\n",
       "        vertical-align: middle;\n",
       "    }\n",
       "\n",
       "    .dataframe tbody tr th {\n",
       "        vertical-align: top;\n",
       "    }\n",
       "\n",
       "    .dataframe thead th {\n",
       "        text-align: right;\n",
       "    }\n",
       "</style>\n",
       "<table border=\"1\" class=\"dataframe\">\n",
       "  <thead>\n",
       "    <tr style=\"text-align: right;\">\n",
       "      <th></th>\n",
       "      <th>Date</th>\n",
       "      <th>headline_category</th>\n",
       "      <th>News</th>\n",
       "    </tr>\n",
       "  </thead>\n",
       "  <tbody>\n",
       "    <tr>\n",
       "      <th>0</th>\n",
       "      <td>20010101</td>\n",
       "      <td>sports.wwe</td>\n",
       "      <td>win over cena satisfying but defeating underta...</td>\n",
       "    </tr>\n",
       "    <tr>\n",
       "      <th>1</th>\n",
       "      <td>20010102</td>\n",
       "      <td>unknown</td>\n",
       "      <td>Status quo will not be disturbed at Ayodhya; s...</td>\n",
       "    </tr>\n",
       "    <tr>\n",
       "      <th>2</th>\n",
       "      <td>20010102</td>\n",
       "      <td>unknown</td>\n",
       "      <td>Fissures in Hurriyat over Pak visit</td>\n",
       "    </tr>\n",
       "    <tr>\n",
       "      <th>3</th>\n",
       "      <td>20010102</td>\n",
       "      <td>unknown</td>\n",
       "      <td>America's unwanted heading for India?</td>\n",
       "    </tr>\n",
       "    <tr>\n",
       "      <th>4</th>\n",
       "      <td>20010102</td>\n",
       "      <td>unknown</td>\n",
       "      <td>For bigwigs; it is destination Goa</td>\n",
       "    </tr>\n",
       "    <tr>\n",
       "      <th>...</th>\n",
       "      <td>...</td>\n",
       "      <td>...</td>\n",
       "      <td>...</td>\n",
       "    </tr>\n",
       "    <tr>\n",
       "      <th>3297167</th>\n",
       "      <td>20200630</td>\n",
       "      <td>gadgets-news</td>\n",
       "      <td>why tiktok removed 1 65 crore videos in india</td>\n",
       "    </tr>\n",
       "    <tr>\n",
       "      <th>3297168</th>\n",
       "      <td>20200630</td>\n",
       "      <td>entertainment.hindi.bollywood</td>\n",
       "      <td>apurva asrani calls alia bhatts mother soni ra...</td>\n",
       "    </tr>\n",
       "    <tr>\n",
       "      <th>3297169</th>\n",
       "      <td>20200630</td>\n",
       "      <td>entertainment.hindi.bollywood</td>\n",
       "      <td>kangana ranaut gets a doll version of herself ...</td>\n",
       "    </tr>\n",
       "    <tr>\n",
       "      <th>3297170</th>\n",
       "      <td>20200630</td>\n",
       "      <td>entertainment.hindi.bollywood</td>\n",
       "      <td>meezaan jaffrey reminisces his childhood days ...</td>\n",
       "    </tr>\n",
       "    <tr>\n",
       "      <th>3297171</th>\n",
       "      <td>20200630</td>\n",
       "      <td>entertainment.telugu.movies.news</td>\n",
       "      <td>prabhas20 titled as radhe shyam prabhas and po...</td>\n",
       "    </tr>\n",
       "  </tbody>\n",
       "</table>\n",
       "<p>3297172 rows × 3 columns</p>\n",
       "</div>"
      ],
      "text/plain": [
       "             Date  ...                                               News\n",
       "0        20010101  ...  win over cena satisfying but defeating underta...\n",
       "1        20010102  ...  Status quo will not be disturbed at Ayodhya; s...\n",
       "2        20010102  ...                Fissures in Hurriyat over Pak visit\n",
       "3        20010102  ...              America's unwanted heading for India?\n",
       "4        20010102  ...                 For bigwigs; it is destination Goa\n",
       "...           ...  ...                                                ...\n",
       "3297167  20200630  ...      why tiktok removed 1 65 crore videos in india\n",
       "3297168  20200630  ...  apurva asrani calls alia bhatts mother soni ra...\n",
       "3297169  20200630  ...  kangana ranaut gets a doll version of herself ...\n",
       "3297170  20200630  ...  meezaan jaffrey reminisces his childhood days ...\n",
       "3297171  20200630  ...  prabhas20 titled as radhe shyam prabhas and po...\n",
       "\n",
       "[3297172 rows x 3 columns]"
      ]
     },
     "execution_count": 27,
     "metadata": {
      "tags": []
     },
     "output_type": "execute_result"
    }
   ],
   "source": [
    "#TEXT ANALYSIS(SENTIMENT_ANALYSIS)\n",
    "df_news = pd.read_csv('india-news-headlines (1).csv')\n",
    "df_news=df_news.rename(columns={\"publish_date\": \"Date\",'headline_text':\"News\"})\n",
    "df_news"
   ]
  },
  {
   "cell_type": "code",
   "execution_count": 28,
   "metadata": {
    "colab": {
     "base_uri": "https://localhost:8080/"
    },
    "id": "thEL-TD_9cCu",
    "outputId": "59b4c72f-9faa-4541-9e8c-ccb7b902689b"
   },
   "outputs": [
    {
     "name": "stdout",
     "output_type": "stream",
     "text": [
      "<class 'pandas.core.frame.DataFrame'>\n",
      "RangeIndex: 3297172 entries, 0 to 3297171\n",
      "Data columns (total 2 columns):\n",
      " #   Column  Dtype \n",
      "---  ------  ----- \n",
      " 0   Date    int64 \n",
      " 1   News    object\n",
      "dtypes: int64(1), object(1)\n",
      "memory usage: 50.3+ MB\n"
     ]
    }
   ],
   "source": [
    "df_news.drop('headline_category', axis = 1, inplace=True)\n",
    "df_news.info()"
   ]
  },
  {
   "cell_type": "code",
   "execution_count": 29,
   "metadata": {
    "colab": {
     "base_uri": "https://localhost:8080/",
     "height": 419
    },
    "id": "yrD1BjjJ9mDG",
    "outputId": "57461e34-e51a-4f59-b897-15b9d5dc3450"
   },
   "outputs": [
    {
     "data": {
      "text/html": [
       "<div>\n",
       "<style scoped>\n",
       "    .dataframe tbody tr th:only-of-type {\n",
       "        vertical-align: middle;\n",
       "    }\n",
       "\n",
       "    .dataframe tbody tr th {\n",
       "        vertical-align: top;\n",
       "    }\n",
       "\n",
       "    .dataframe thead th {\n",
       "        text-align: right;\n",
       "    }\n",
       "</style>\n",
       "<table border=\"1\" class=\"dataframe\">\n",
       "  <thead>\n",
       "    <tr style=\"text-align: right;\">\n",
       "      <th></th>\n",
       "      <th>Date</th>\n",
       "      <th>News</th>\n",
       "    </tr>\n",
       "  </thead>\n",
       "  <tbody>\n",
       "    <tr>\n",
       "      <th>0</th>\n",
       "      <td>2001-01-01 00:00:00+00:00</td>\n",
       "      <td>win over cena satisfying but defeating underta...</td>\n",
       "    </tr>\n",
       "    <tr>\n",
       "      <th>1</th>\n",
       "      <td>2001-01-02 00:00:00+00:00</td>\n",
       "      <td>Status quo will not be disturbed at Ayodhya; s...</td>\n",
       "    </tr>\n",
       "    <tr>\n",
       "      <th>2</th>\n",
       "      <td>2001-01-03 00:00:00+00:00</td>\n",
       "      <td>Powerless north India gropes in the dark Think...</td>\n",
       "    </tr>\n",
       "    <tr>\n",
       "      <th>3</th>\n",
       "      <td>2001-01-04 00:00:00+00:00</td>\n",
       "      <td>The string that pulled Stephen Hawking to Indi...</td>\n",
       "    </tr>\n",
       "    <tr>\n",
       "      <th>4</th>\n",
       "      <td>2001-01-05 00:00:00+00:00</td>\n",
       "      <td>Light combat craft takes India into club class...</td>\n",
       "    </tr>\n",
       "    <tr>\n",
       "      <th>...</th>\n",
       "      <td>...</td>\n",
       "      <td>...</td>\n",
       "    </tr>\n",
       "    <tr>\n",
       "      <th>7075</th>\n",
       "      <td>2020-06-26 00:00:00+00:00</td>\n",
       "      <td>Containment zone residents slam high prices ch...</td>\n",
       "    </tr>\n",
       "    <tr>\n",
       "      <th>7076</th>\n",
       "      <td>2020-06-27 00:00:00+00:00</td>\n",
       "      <td>like me i wont let you have a toxic relationsh...</td>\n",
       "    </tr>\n",
       "    <tr>\n",
       "      <th>7077</th>\n",
       "      <td>2020-06-28 00:00:00+00:00</td>\n",
       "      <td>Atanu Ghosh plans to rewrite old scripts to ma...</td>\n",
       "    </tr>\n",
       "    <tr>\n",
       "      <th>7078</th>\n",
       "      <td>2020-06-29 00:00:00+00:00</td>\n",
       "      <td>6 hot and stylish bikini looks of Katrina Kaif...</td>\n",
       "    </tr>\n",
       "    <tr>\n",
       "      <th>7079</th>\n",
       "      <td>2020-06-30 00:00:00+00:00</td>\n",
       "      <td>Detective Byomkesh Bakshy! Edge of Tomorrow Fi...</td>\n",
       "    </tr>\n",
       "  </tbody>\n",
       "</table>\n",
       "<p>7080 rows × 2 columns</p>\n",
       "</div>"
      ],
      "text/plain": [
       "                          Date                                               News\n",
       "0    2001-01-01 00:00:00+00:00  win over cena satisfying but defeating underta...\n",
       "1    2001-01-02 00:00:00+00:00  Status quo will not be disturbed at Ayodhya; s...\n",
       "2    2001-01-03 00:00:00+00:00  Powerless north India gropes in the dark Think...\n",
       "3    2001-01-04 00:00:00+00:00  The string that pulled Stephen Hawking to Indi...\n",
       "4    2001-01-05 00:00:00+00:00  Light combat craft takes India into club class...\n",
       "...                        ...                                                ...\n",
       "7075 2020-06-26 00:00:00+00:00  Containment zone residents slam high prices ch...\n",
       "7076 2020-06-27 00:00:00+00:00  like me i wont let you have a toxic relationsh...\n",
       "7077 2020-06-28 00:00:00+00:00  Atanu Ghosh plans to rewrite old scripts to ma...\n",
       "7078 2020-06-29 00:00:00+00:00  6 hot and stylish bikini looks of Katrina Kaif...\n",
       "7079 2020-06-30 00:00:00+00:00  Detective Byomkesh Bakshy! Edge of Tomorrow Fi...\n",
       "\n",
       "[7080 rows x 2 columns]"
      ]
     },
     "execution_count": 29,
     "metadata": {
      "tags": []
     },
     "output_type": "execute_result"
    }
   ],
   "source": [
    "df_news['Date'] = pd.to_datetime(df_news['Date'],format= '%Y%m%d',utc=True)\n",
    "df_news['News'] = df_news.groupby(['Date']).transform(lambda x : ' '.join(x)) \n",
    "df_news = df_news.drop_duplicates() \n",
    "df_news.reset_index(inplace = True, drop = True)\n",
    "df_news"
   ]
  },
  {
   "cell_type": "code",
   "execution_count": 30,
   "metadata": {
    "id": "rTyH20zgEx3d"
   },
   "outputs": [],
   "source": [
    "from nltk.tokenize import word_tokenize\n",
    "def clean_text(df_news):\n",
    "    df_news = word_tokenize(df_news) # Create tokens\n",
    "    df_news= \" \".join(df_news) # Join tokens\n",
    "    df_news = [char for char in df_news if char not in string.punctuation] # Remove punctuations\n",
    "    df_news = ''.join(df_news) # Join the letters\n",
    "    df_news = [word for word in df_news.split() if word.lower() not in stopwords.words('english')] # Remove common english words (I, you, we,...)\n",
    "    return \" \".join(df_news)"
   ]
  },
  {
   "cell_type": "code",
   "execution_count": 31,
   "metadata": {
    "colab": {
     "base_uri": "https://localhost:8080/",
     "height": 419
    },
    "id": "O2Tqx3pS_WFy",
    "outputId": "b7c05ee1-8af5-49d7-e1f5-906614136181"
   },
   "outputs": [
    {
     "data": {
      "text/html": [
       "<div>\n",
       "<style scoped>\n",
       "    .dataframe tbody tr th:only-of-type {\n",
       "        vertical-align: middle;\n",
       "    }\n",
       "\n",
       "    .dataframe tbody tr th {\n",
       "        vertical-align: top;\n",
       "    }\n",
       "\n",
       "    .dataframe thead th {\n",
       "        text-align: right;\n",
       "    }\n",
       "</style>\n",
       "<table border=\"1\" class=\"dataframe\">\n",
       "  <thead>\n",
       "    <tr style=\"text-align: right;\">\n",
       "      <th></th>\n",
       "      <th>Date</th>\n",
       "      <th>News</th>\n",
       "      <th>cleaned_text</th>\n",
       "    </tr>\n",
       "  </thead>\n",
       "  <tbody>\n",
       "    <tr>\n",
       "      <th>0</th>\n",
       "      <td>2001-01-01 00:00:00+00:00</td>\n",
       "      <td>win over cena satisfying but defeating underta...</td>\n",
       "      <td>win cena satisfying defeating undertaker bigge...</td>\n",
       "    </tr>\n",
       "    <tr>\n",
       "      <th>1</th>\n",
       "      <td>2001-01-02 00:00:00+00:00</td>\n",
       "      <td>Status quo will not be disturbed at Ayodhya; s...</td>\n",
       "      <td>Status quo disturbed Ayodhya says Vajpayee Fis...</td>\n",
       "    </tr>\n",
       "    <tr>\n",
       "      <th>2</th>\n",
       "      <td>2001-01-03 00:00:00+00:00</td>\n",
       "      <td>Powerless north India gropes in the dark Think...</td>\n",
       "      <td>Powerless north India gropes dark Think Laxman...</td>\n",
       "    </tr>\n",
       "    <tr>\n",
       "      <th>3</th>\n",
       "      <td>2001-01-04 00:00:00+00:00</td>\n",
       "      <td>The string that pulled Stephen Hawking to Indi...</td>\n",
       "      <td>string pulled Stephen Hawking India Vajpayee g...</td>\n",
       "    </tr>\n",
       "    <tr>\n",
       "      <th>4</th>\n",
       "      <td>2001-01-05 00:00:00+00:00</td>\n",
       "      <td>Light combat craft takes India into club class...</td>\n",
       "      <td>Light combat craft takes India club class Hawk...</td>\n",
       "    </tr>\n",
       "    <tr>\n",
       "      <th>...</th>\n",
       "      <td>...</td>\n",
       "      <td>...</td>\n",
       "      <td>...</td>\n",
       "    </tr>\n",
       "    <tr>\n",
       "      <th>7075</th>\n",
       "      <td>2020-06-26 00:00:00+00:00</td>\n",
       "      <td>Containment zone residents slam high prices ch...</td>\n",
       "      <td>Containment zone residents slam high prices ch...</td>\n",
       "    </tr>\n",
       "    <tr>\n",
       "      <th>7076</th>\n",
       "      <td>2020-06-27 00:00:00+00:00</td>\n",
       "      <td>like me i wont let you have a toxic relationsh...</td>\n",
       "      <td>like wont let toxic relationship food Major Ra...</td>\n",
       "    </tr>\n",
       "    <tr>\n",
       "      <th>7077</th>\n",
       "      <td>2020-06-28 00:00:00+00:00</td>\n",
       "      <td>Atanu Ghosh plans to rewrite old scripts to ma...</td>\n",
       "      <td>Atanu Ghosh plans rewrite old scripts make rel...</td>\n",
       "    </tr>\n",
       "    <tr>\n",
       "      <th>7078</th>\n",
       "      <td>2020-06-29 00:00:00+00:00</td>\n",
       "      <td>6 hot and stylish bikini looks of Katrina Kaif...</td>\n",
       "      <td>6 hot stylish bikini looks Katrina Kaif Anna E...</td>\n",
       "    </tr>\n",
       "    <tr>\n",
       "      <th>7079</th>\n",
       "      <td>2020-06-30 00:00:00+00:00</td>\n",
       "      <td>Detective Byomkesh Bakshy! Edge of Tomorrow Fi...</td>\n",
       "      <td>Detective Byomkesh Bakshy Edge Tomorrow First ...</td>\n",
       "    </tr>\n",
       "  </tbody>\n",
       "</table>\n",
       "<p>7080 rows × 3 columns</p>\n",
       "</div>"
      ],
      "text/plain": [
       "                          Date  ...                                       cleaned_text\n",
       "0    2001-01-01 00:00:00+00:00  ...  win cena satisfying defeating undertaker bigge...\n",
       "1    2001-01-02 00:00:00+00:00  ...  Status quo disturbed Ayodhya says Vajpayee Fis...\n",
       "2    2001-01-03 00:00:00+00:00  ...  Powerless north India gropes dark Think Laxman...\n",
       "3    2001-01-04 00:00:00+00:00  ...  string pulled Stephen Hawking India Vajpayee g...\n",
       "4    2001-01-05 00:00:00+00:00  ...  Light combat craft takes India club class Hawk...\n",
       "...                        ...  ...                                                ...\n",
       "7075 2020-06-26 00:00:00+00:00  ...  Containment zone residents slam high prices ch...\n",
       "7076 2020-06-27 00:00:00+00:00  ...  like wont let toxic relationship food Major Ra...\n",
       "7077 2020-06-28 00:00:00+00:00  ...  Atanu Ghosh plans rewrite old scripts make rel...\n",
       "7078 2020-06-29 00:00:00+00:00  ...  6 hot stylish bikini looks Katrina Kaif Anna E...\n",
       "7079 2020-06-30 00:00:00+00:00  ...  Detective Byomkesh Bakshy Edge Tomorrow First ...\n",
       "\n",
       "[7080 rows x 3 columns]"
      ]
     },
     "execution_count": 31,
     "metadata": {
      "tags": []
     },
     "output_type": "execute_result"
    }
   ],
   "source": [
    "df_news['cleaned_text'] = df_news['News'].apply(clean_text)\n",
    "df_news"
   ]
  },
  {
   "cell_type": "code",
   "execution_count": 32,
   "metadata": {
    "colab": {
     "base_uri": "https://localhost:8080/"
    },
    "id": "CMnPbrSdQOAT",
    "outputId": "2dcf6aff-4e4a-4519-9666-ff5485133b99"
   },
   "outputs": [
    {
     "name": "stdout",
     "output_type": "stream",
     "text": [
      "Requirement already satisfied: textblob in /usr/local/lib/python3.6/dist-packages (0.15.3)\n",
      "Requirement already satisfied: nltk>=3.1 in /usr/local/lib/python3.6/dist-packages (from textblob) (3.2.5)\n",
      "Requirement already satisfied: six in /usr/local/lib/python3.6/dist-packages (from nltk>=3.1->textblob) (1.15.0)\n"
     ]
    }
   ],
   "source": [
    "!pip install textblob"
   ]
  },
  {
   "cell_type": "code",
   "execution_count": 34,
   "metadata": {
    "id": "oNdmr2B7RZ-S"
   },
   "outputs": [],
   "source": [
    "from textblob import TextBlob\n",
    "def generate_polarity(text):\n",
    "    sentiment = TextBlob(text).sentiment.polarity\n",
    "    return sentiment"
   ]
  },
  {
   "cell_type": "code",
   "execution_count": 35,
   "metadata": {
    "id": "P8NW8WgYSHaA"
   },
   "outputs": [],
   "source": [
    "sentiment = df_news['cleaned_text'].apply(generate_polarity)\n",
    "sentiment_polarity = sentiment.to_frame()\n",
    "#sentiment_polarity.head()"
   ]
  },
  {
   "cell_type": "code",
   "execution_count": 36,
   "metadata": {
    "id": "R7bLj4g-T9wC"
   },
   "outputs": [],
   "source": [
    "def generate_subjectivity(text):\n",
    "    sentiment = TextBlob(text).sentiment.subjectivity\n",
    "    return sentiment\n",
    "sentiment = df_news['cleaned_text'].apply(generate_subjectivity)\n",
    "sentiment_subjectivity = sentiment.to_frame()\n",
    "#sentiment_subjectivity.head()"
   ]
  },
  {
   "cell_type": "code",
   "execution_count": 38,
   "metadata": {
    "colab": {
     "base_uri": "https://localhost:8080/",
     "height": 419
    },
    "id": "XhXqzkP8SQ3h",
    "outputId": "902a1f56-4142-4f8a-e745-dd84c8141ad6"
   },
   "outputs": [
    {
     "data": {
      "text/html": [
       "<div>\n",
       "<style scoped>\n",
       "    .dataframe tbody tr th:only-of-type {\n",
       "        vertical-align: middle;\n",
       "    }\n",
       "\n",
       "    .dataframe tbody tr th {\n",
       "        vertical-align: top;\n",
       "    }\n",
       "\n",
       "    .dataframe thead th {\n",
       "        text-align: right;\n",
       "    }\n",
       "</style>\n",
       "<table border=\"1\" class=\"dataframe\">\n",
       "  <thead>\n",
       "    <tr style=\"text-align: right;\">\n",
       "      <th></th>\n",
       "      <th>Date</th>\n",
       "      <th>News</th>\n",
       "      <th>cleaned_text</th>\n",
       "      <th>polarity</th>\n",
       "      <th>subjectivity</th>\n",
       "    </tr>\n",
       "  </thead>\n",
       "  <tbody>\n",
       "    <tr>\n",
       "      <th>0</th>\n",
       "      <td>2001-01-01 00:00:00+00:00</td>\n",
       "      <td>win over cena satisfying but defeating underta...</td>\n",
       "      <td>win cena satisfying defeating undertaker bigge...</td>\n",
       "      <td>0.433333</td>\n",
       "      <td>0.633333</td>\n",
       "    </tr>\n",
       "    <tr>\n",
       "      <th>1</th>\n",
       "      <td>2001-01-02 00:00:00+00:00</td>\n",
       "      <td>Status quo will not be disturbed at Ayodhya; s...</td>\n",
       "      <td>Status quo disturbed Ayodhya says Vajpayee Fis...</td>\n",
       "      <td>0.121014</td>\n",
       "      <td>0.263406</td>\n",
       "    </tr>\n",
       "    <tr>\n",
       "      <th>2</th>\n",
       "      <td>2001-01-03 00:00:00+00:00</td>\n",
       "      <td>Powerless north India gropes in the dark Think...</td>\n",
       "      <td>Powerless north India gropes dark Think Laxman...</td>\n",
       "      <td>0.112500</td>\n",
       "      <td>0.433333</td>\n",
       "    </tr>\n",
       "    <tr>\n",
       "      <th>3</th>\n",
       "      <td>2001-01-04 00:00:00+00:00</td>\n",
       "      <td>The string that pulled Stephen Hawking to Indi...</td>\n",
       "      <td>string pulled Stephen Hawking India Vajpayee g...</td>\n",
       "      <td>0.054074</td>\n",
       "      <td>0.442101</td>\n",
       "    </tr>\n",
       "    <tr>\n",
       "      <th>4</th>\n",
       "      <td>2001-01-05 00:00:00+00:00</td>\n",
       "      <td>Light combat craft takes India into club class...</td>\n",
       "      <td>Light combat craft takes India club class Hawk...</td>\n",
       "      <td>0.266578</td>\n",
       "      <td>0.477807</td>\n",
       "    </tr>\n",
       "    <tr>\n",
       "      <th>...</th>\n",
       "      <td>...</td>\n",
       "      <td>...</td>\n",
       "      <td>...</td>\n",
       "      <td>...</td>\n",
       "      <td>...</td>\n",
       "    </tr>\n",
       "    <tr>\n",
       "      <th>7075</th>\n",
       "      <td>2020-06-26 00:00:00+00:00</td>\n",
       "      <td>Containment zone residents slam high prices ch...</td>\n",
       "      <td>Containment zone residents slam high prices ch...</td>\n",
       "      <td>0.043772</td>\n",
       "      <td>0.360802</td>\n",
       "    </tr>\n",
       "    <tr>\n",
       "      <th>7076</th>\n",
       "      <td>2020-06-27 00:00:00+00:00</td>\n",
       "      <td>like me i wont let you have a toxic relationsh...</td>\n",
       "      <td>like wont let toxic relationship food Major Ra...</td>\n",
       "      <td>0.068910</td>\n",
       "      <td>0.381466</td>\n",
       "    </tr>\n",
       "    <tr>\n",
       "      <th>7077</th>\n",
       "      <td>2020-06-28 00:00:00+00:00</td>\n",
       "      <td>Atanu Ghosh plans to rewrite old scripts to ma...</td>\n",
       "      <td>Atanu Ghosh plans rewrite old scripts make rel...</td>\n",
       "      <td>0.039826</td>\n",
       "      <td>0.400228</td>\n",
       "    </tr>\n",
       "    <tr>\n",
       "      <th>7078</th>\n",
       "      <td>2020-06-29 00:00:00+00:00</td>\n",
       "      <td>6 hot and stylish bikini looks of Katrina Kaif...</td>\n",
       "      <td>6 hot stylish bikini looks Katrina Kaif Anna E...</td>\n",
       "      <td>0.045736</td>\n",
       "      <td>0.378385</td>\n",
       "    </tr>\n",
       "    <tr>\n",
       "      <th>7079</th>\n",
       "      <td>2020-06-30 00:00:00+00:00</td>\n",
       "      <td>Detective Byomkesh Bakshy! Edge of Tomorrow Fi...</td>\n",
       "      <td>Detective Byomkesh Bakshy Edge Tomorrow First ...</td>\n",
       "      <td>0.055565</td>\n",
       "      <td>0.372053</td>\n",
       "    </tr>\n",
       "  </tbody>\n",
       "</table>\n",
       "<p>7080 rows × 5 columns</p>\n",
       "</div>"
      ],
      "text/plain": [
       "                          Date  ... subjectivity\n",
       "0    2001-01-01 00:00:00+00:00  ...     0.633333\n",
       "1    2001-01-02 00:00:00+00:00  ...     0.263406\n",
       "2    2001-01-03 00:00:00+00:00  ...     0.433333\n",
       "3    2001-01-04 00:00:00+00:00  ...     0.442101\n",
       "4    2001-01-05 00:00:00+00:00  ...     0.477807\n",
       "...                        ...  ...          ...\n",
       "7075 2020-06-26 00:00:00+00:00  ...     0.360802\n",
       "7076 2020-06-27 00:00:00+00:00  ...     0.381466\n",
       "7077 2020-06-28 00:00:00+00:00  ...     0.400228\n",
       "7078 2020-06-29 00:00:00+00:00  ...     0.378385\n",
       "7079 2020-06-30 00:00:00+00:00  ...     0.372053\n",
       "\n",
       "[7080 rows x 5 columns]"
      ]
     },
     "execution_count": 38,
     "metadata": {
      "tags": []
     },
     "output_type": "execute_result"
    }
   ],
   "source": [
    "df_news['polarity'] = sentiment_polarity\n",
    "df_news['subjectivity'] = sentiment_subjectivity\n",
    "df_news"
   ]
  },
  {
   "cell_type": "code",
   "execution_count": 39,
   "metadata": {
    "colab": {
     "base_uri": "https://localhost:8080/"
    },
    "id": "nPwUXHNySu6H",
    "outputId": "e87667ce-8685-4d9c-d92c-24ef8d4e9733"
   },
   "outputs": [
    {
     "data": {
      "text/plain": [
       "positive    6707\n",
       "negative     363\n",
       "neutral       10\n",
       "Name: polarity_encoded, dtype: int64"
      ]
     },
     "execution_count": 39,
     "metadata": {
      "tags": []
     },
     "output_type": "execute_result"
    }
   ],
   "source": [
    "df_news['polarity_encoded'] = ['positive' if x > 0 else 'negative' if x < 0 else 'neutral' for x in df_news['polarity']]\n",
    "df_news['polarity_encoded'].value_counts()"
   ]
  },
  {
   "cell_type": "code",
   "execution_count": 40,
   "metadata": {
    "colab": {
     "base_uri": "https://localhost:8080/",
     "height": 589
    },
    "id": "JalFi_mfSoKo",
    "outputId": "bef7474d-0d44-4eef-ce92-e2a8c0421a9e"
   },
   "outputs": [
    {
     "data": {
      "text/html": [
       "<div>\n",
       "<style scoped>\n",
       "    .dataframe tbody tr th:only-of-type {\n",
       "        vertical-align: middle;\n",
       "    }\n",
       "\n",
       "    .dataframe tbody tr th {\n",
       "        vertical-align: top;\n",
       "    }\n",
       "\n",
       "    .dataframe thead th {\n",
       "        text-align: right;\n",
       "    }\n",
       "</style>\n",
       "<table border=\"1\" class=\"dataframe\">\n",
       "  <thead>\n",
       "    <tr style=\"text-align: right;\">\n",
       "      <th></th>\n",
       "      <th>Date</th>\n",
       "      <th>News</th>\n",
       "      <th>cleaned_text</th>\n",
       "      <th>polarity</th>\n",
       "      <th>subjectivity</th>\n",
       "      <th>polarity_encoded</th>\n",
       "      <th>Compound</th>\n",
       "      <th>Negative</th>\n",
       "      <th>Neutral</th>\n",
       "      <th>Positive</th>\n",
       "    </tr>\n",
       "  </thead>\n",
       "  <tbody>\n",
       "    <tr>\n",
       "      <th>0</th>\n",
       "      <td>2001-01-01 00:00:00+00:00</td>\n",
       "      <td>win over cena satisfying but defeating underta...</td>\n",
       "      <td>win cena satisfying defeating undertaker bigge...</td>\n",
       "      <td>0.433333</td>\n",
       "      <td>0.633333</td>\n",
       "      <td>positive</td>\n",
       "      <td>0.6369</td>\n",
       "      <td>0.181</td>\n",
       "      <td>0.347</td>\n",
       "      <td>0.472</td>\n",
       "    </tr>\n",
       "    <tr>\n",
       "      <th>1</th>\n",
       "      <td>2001-01-02 00:00:00+00:00</td>\n",
       "      <td>Status quo will not be disturbed at Ayodhya; s...</td>\n",
       "      <td>Status quo disturbed Ayodhya says Vajpayee Fis...</td>\n",
       "      <td>0.121014</td>\n",
       "      <td>0.263406</td>\n",
       "      <td>positive</td>\n",
       "      <td>-0.9662</td>\n",
       "      <td>0.164</td>\n",
       "      <td>0.735</td>\n",
       "      <td>0.101</td>\n",
       "    </tr>\n",
       "    <tr>\n",
       "      <th>2</th>\n",
       "      <td>2001-01-03 00:00:00+00:00</td>\n",
       "      <td>Powerless north India gropes in the dark Think...</td>\n",
       "      <td>Powerless north India gropes dark Think Laxman...</td>\n",
       "      <td>0.112500</td>\n",
       "      <td>0.433333</td>\n",
       "      <td>positive</td>\n",
       "      <td>0.4019</td>\n",
       "      <td>0.137</td>\n",
       "      <td>0.719</td>\n",
       "      <td>0.145</td>\n",
       "    </tr>\n",
       "    <tr>\n",
       "      <th>3</th>\n",
       "      <td>2001-01-04 00:00:00+00:00</td>\n",
       "      <td>The string that pulled Stephen Hawking to Indi...</td>\n",
       "      <td>string pulled Stephen Hawking India Vajpayee g...</td>\n",
       "      <td>0.054074</td>\n",
       "      <td>0.442101</td>\n",
       "      <td>positive</td>\n",
       "      <td>0.5423</td>\n",
       "      <td>0.123</td>\n",
       "      <td>0.754</td>\n",
       "      <td>0.123</td>\n",
       "    </tr>\n",
       "    <tr>\n",
       "      <th>4</th>\n",
       "      <td>2001-01-05 00:00:00+00:00</td>\n",
       "      <td>Light combat craft takes India into club class...</td>\n",
       "      <td>Light combat craft takes India club class Hawk...</td>\n",
       "      <td>0.266578</td>\n",
       "      <td>0.477807</td>\n",
       "      <td>positive</td>\n",
       "      <td>0.9854</td>\n",
       "      <td>0.144</td>\n",
       "      <td>0.665</td>\n",
       "      <td>0.190</td>\n",
       "    </tr>\n",
       "    <tr>\n",
       "      <th>...</th>\n",
       "      <td>...</td>\n",
       "      <td>...</td>\n",
       "      <td>...</td>\n",
       "      <td>...</td>\n",
       "      <td>...</td>\n",
       "      <td>...</td>\n",
       "      <td>...</td>\n",
       "      <td>...</td>\n",
       "      <td>...</td>\n",
       "      <td>...</td>\n",
       "    </tr>\n",
       "    <tr>\n",
       "      <th>7075</th>\n",
       "      <td>2020-06-26 00:00:00+00:00</td>\n",
       "      <td>Containment zone residents slam high prices ch...</td>\n",
       "      <td>Containment zone residents slam high prices ch...</td>\n",
       "      <td>0.043772</td>\n",
       "      <td>0.360802</td>\n",
       "      <td>positive</td>\n",
       "      <td>-0.9998</td>\n",
       "      <td>0.156</td>\n",
       "      <td>0.750</td>\n",
       "      <td>0.094</td>\n",
       "    </tr>\n",
       "    <tr>\n",
       "      <th>7076</th>\n",
       "      <td>2020-06-27 00:00:00+00:00</td>\n",
       "      <td>like me i wont let you have a toxic relationsh...</td>\n",
       "      <td>like wont let toxic relationship food Major Ra...</td>\n",
       "      <td>0.068910</td>\n",
       "      <td>0.381466</td>\n",
       "      <td>positive</td>\n",
       "      <td>-0.9998</td>\n",
       "      <td>0.151</td>\n",
       "      <td>0.756</td>\n",
       "      <td>0.093</td>\n",
       "    </tr>\n",
       "    <tr>\n",
       "      <th>7077</th>\n",
       "      <td>2020-06-28 00:00:00+00:00</td>\n",
       "      <td>Atanu Ghosh plans to rewrite old scripts to ma...</td>\n",
       "      <td>Atanu Ghosh plans rewrite old scripts make rel...</td>\n",
       "      <td>0.039826</td>\n",
       "      <td>0.400228</td>\n",
       "      <td>positive</td>\n",
       "      <td>-0.9999</td>\n",
       "      <td>0.160</td>\n",
       "      <td>0.756</td>\n",
       "      <td>0.085</td>\n",
       "    </tr>\n",
       "    <tr>\n",
       "      <th>7078</th>\n",
       "      <td>2020-06-29 00:00:00+00:00</td>\n",
       "      <td>6 hot and stylish bikini looks of Katrina Kaif...</td>\n",
       "      <td>6 hot stylish bikini looks Katrina Kaif Anna E...</td>\n",
       "      <td>0.045736</td>\n",
       "      <td>0.378385</td>\n",
       "      <td>positive</td>\n",
       "      <td>-0.9998</td>\n",
       "      <td>0.154</td>\n",
       "      <td>0.755</td>\n",
       "      <td>0.092</td>\n",
       "    </tr>\n",
       "    <tr>\n",
       "      <th>7079</th>\n",
       "      <td>2020-06-30 00:00:00+00:00</td>\n",
       "      <td>Detective Byomkesh Bakshy! Edge of Tomorrow Fi...</td>\n",
       "      <td>Detective Byomkesh Bakshy Edge Tomorrow First ...</td>\n",
       "      <td>0.055565</td>\n",
       "      <td>0.372053</td>\n",
       "      <td>positive</td>\n",
       "      <td>-0.9998</td>\n",
       "      <td>0.138</td>\n",
       "      <td>0.789</td>\n",
       "      <td>0.073</td>\n",
       "    </tr>\n",
       "  </tbody>\n",
       "</table>\n",
       "<p>7080 rows × 10 columns</p>\n",
       "</div>"
      ],
      "text/plain": [
       "                          Date  ... Positive\n",
       "0    2001-01-01 00:00:00+00:00  ...    0.472\n",
       "1    2001-01-02 00:00:00+00:00  ...    0.101\n",
       "2    2001-01-03 00:00:00+00:00  ...    0.145\n",
       "3    2001-01-04 00:00:00+00:00  ...    0.123\n",
       "4    2001-01-05 00:00:00+00:00  ...    0.190\n",
       "...                        ...  ...      ...\n",
       "7075 2020-06-26 00:00:00+00:00  ...    0.094\n",
       "7076 2020-06-27 00:00:00+00:00  ...    0.093\n",
       "7077 2020-06-28 00:00:00+00:00  ...    0.085\n",
       "7078 2020-06-29 00:00:00+00:00  ...    0.092\n",
       "7079 2020-06-30 00:00:00+00:00  ...    0.073\n",
       "\n",
       "[7080 rows x 10 columns]"
      ]
     },
     "execution_count": 40,
     "metadata": {
      "tags": []
     },
     "output_type": "execute_result"
    }
   ],
   "source": [
    "sia = SentimentIntensityAnalyzer()\n",
    "\n",
    "df_news['Compound'] = [sia.polarity_scores(v)['compound'] for v in df_news['cleaned_text']]\n",
    "df_news['Negative'] = [sia.polarity_scores(v)['neg'] for v in df_news['cleaned_text']]\n",
    "df_news['Neutral'] = [sia.polarity_scores(v)['neu'] for v in df_news['cleaned_text']]\n",
    "df_news['Positive'] = [sia.polarity_scores(v)['pos'] for v in df_news['cleaned_text']]\n",
    "df_news"
   ]
  },
  {
   "cell_type": "code",
   "execution_count": 41,
   "metadata": {
    "colab": {
     "base_uri": "https://localhost:8080/"
    },
    "id": "-xhfL1b_S4xF",
    "outputId": "0e82d2dd-0305-4020-881c-75cca2dbd5cc"
   },
   "outputs": [
    {
     "name": "stdout",
     "output_type": "stream",
     "text": [
      "The most positive news: Of power and potatoes A Happy Surprise Looking for Digs Is the home of the brave still the land of the free?\n",
      "The most negative news: Antony elected Kerala chief minister Pak not yet in rogues gallery; says US India goes on MoU signing spree with Malaysia Advani blames Rao govt for Ayodhya crisis BJP turns to RSS in search for lost ideology Law and Disorder Has hoity-toity Jaya changed at all? Sonia holds olive branch to Jaya If Jaya can; why can't Lalooji; ask loyalists Four Congmen race for Chief Ministership Jaya was here; there and everywhere Former SC Judge endorses Jaya's chief ministership Chidambaram threatens to take CM issue to court Antony made CM; after a few hiccups Leader extracts his pound of flesh Antony to UDF: don't get drunk on power\n",
      "The most subjective news: Nepal's gripping tale of sorrow Mujhe Kucch Kehna Hai\n",
      "The most objective news: Fend for yourselves; Pande tells doctors Bureaucracy undermining legislature's 'existence' State police collapses under pressure Court declares Pappu Yadav an absconder\n"
     ]
    }
   ],
   "source": [
    "print(\"The most positive news:\",df_news.iloc[df_news['polarity'].idxmax()]['News'])\n",
    "print(\"The most negative news:\",df_news.iloc[df_news['polarity'].idxmin()]['News']) \n",
    "print(\"The most subjective news:\",df_news.iloc[df_news['subjectivity'].idxmax()]['News'])\n",
    "print(\"The most objective news:\",df_news.iloc[df_news['subjectivity'].idxmin()]['News']) "
   ]
  },
  {
   "cell_type": "code",
   "execution_count": 65,
   "metadata": {
    "colab": {
     "base_uri": "https://localhost:8080/",
     "height": 1000
    },
    "id": "b9NYskwjS6Kz",
    "outputId": "538c5919-816c-45c8-dae7-10209502a10b"
   },
   "outputs": [
    {
     "data": {
      "text/html": [
       "<div>\n",
       "<style scoped>\n",
       "    .dataframe tbody tr th:only-of-type {\n",
       "        vertical-align: middle;\n",
       "    }\n",
       "\n",
       "    .dataframe tbody tr th {\n",
       "        vertical-align: top;\n",
       "    }\n",
       "\n",
       "    .dataframe thead th {\n",
       "        text-align: right;\n",
       "    }\n",
       "</style>\n",
       "<table border=\"1\" class=\"dataframe\">\n",
       "  <thead>\n",
       "    <tr style=\"text-align: right;\">\n",
       "      <th></th>\n",
       "      <th>Date</th>\n",
       "      <th>Open</th>\n",
       "      <th>High</th>\n",
       "      <th>Low</th>\n",
       "      <th>Close</th>\n",
       "      <th>Adj Close</th>\n",
       "      <th>Volume</th>\n",
       "      <th>News</th>\n",
       "      <th>cleaned_text</th>\n",
       "      <th>polarity</th>\n",
       "      <th>subjectivity</th>\n",
       "      <th>polarity_encoded</th>\n",
       "      <th>Compound</th>\n",
       "      <th>Negative</th>\n",
       "      <th>Neutral</th>\n",
       "      <th>Positive</th>\n",
       "    </tr>\n",
       "  </thead>\n",
       "  <tbody>\n",
       "    <tr>\n",
       "      <th>0</th>\n",
       "      <td>2014-01-02 00:00:00+00:00</td>\n",
       "      <td>1204.300049</td>\n",
       "      <td>1227.300049</td>\n",
       "      <td>1204.300049</td>\n",
       "      <td>1225.000000</td>\n",
       "      <td>1225.000000</td>\n",
       "      <td>209.0</td>\n",
       "      <td>10 best movie catch phrases of all times Ranbi...</td>\n",
       "      <td>10 best movie catch phrases times Ranbir Kapoo...</td>\n",
       "      <td>0.081661</td>\n",
       "      <td>0.460266</td>\n",
       "      <td>positive</td>\n",
       "      <td>-0.9996</td>\n",
       "      <td>0.156</td>\n",
       "      <td>0.728</td>\n",
       "      <td>0.116</td>\n",
       "    </tr>\n",
       "    <tr>\n",
       "      <th>1</th>\n",
       "      <td>2014-01-03 00:00:00+00:00</td>\n",
       "      <td>1221.699951</td>\n",
       "      <td>1239.000000</td>\n",
       "      <td>1221.699951</td>\n",
       "      <td>1238.400024</td>\n",
       "      <td>1238.400024</td>\n",
       "      <td>142.0</td>\n",
       "      <td>I find comedy tough: Abhishek Bachchan Virat K...</td>\n",
       "      <td>find comedy tough Abhishek Bachchan Virat Kohl...</td>\n",
       "      <td>0.028246</td>\n",
       "      <td>0.371817</td>\n",
       "      <td>positive</td>\n",
       "      <td>-0.9998</td>\n",
       "      <td>0.168</td>\n",
       "      <td>0.717</td>\n",
       "      <td>0.116</td>\n",
       "    </tr>\n",
       "    <tr>\n",
       "      <th>2</th>\n",
       "      <td>2014-01-06 00:00:00+00:00</td>\n",
       "      <td>1232.800049</td>\n",
       "      <td>1247.000000</td>\n",
       "      <td>1221.900024</td>\n",
       "      <td>1237.800049</td>\n",
       "      <td>1237.800049</td>\n",
       "      <td>127.0</td>\n",
       "      <td>Srinagara Kitty sports stylish look in new fil...</td>\n",
       "      <td>Srinagara Kitty sports stylish look new film A...</td>\n",
       "      <td>0.048331</td>\n",
       "      <td>0.387522</td>\n",
       "      <td>positive</td>\n",
       "      <td>-0.9997</td>\n",
       "      <td>0.160</td>\n",
       "      <td>0.723</td>\n",
       "      <td>0.118</td>\n",
       "    </tr>\n",
       "    <tr>\n",
       "      <th>3</th>\n",
       "      <td>2014-01-07 00:00:00+00:00</td>\n",
       "      <td>1239.300049</td>\n",
       "      <td>1242.400024</td>\n",
       "      <td>1226.300049</td>\n",
       "      <td>1229.400024</td>\n",
       "      <td>1229.400024</td>\n",
       "      <td>73.0</td>\n",
       "      <td>Koffee With Karan Sonam Kapoor and Anil Kapoor...</td>\n",
       "      <td>Koffee Karan Sonam Kapoor Anil Kapoor Koffee K...</td>\n",
       "      <td>-0.003358</td>\n",
       "      <td>0.399507</td>\n",
       "      <td>negative</td>\n",
       "      <td>-0.9999</td>\n",
       "      <td>0.178</td>\n",
       "      <td>0.736</td>\n",
       "      <td>0.086</td>\n",
       "    </tr>\n",
       "    <tr>\n",
       "      <th>4</th>\n",
       "      <td>2014-01-08 00:00:00+00:00</td>\n",
       "      <td>1227.500000</td>\n",
       "      <td>1227.500000</td>\n",
       "      <td>1218.599976</td>\n",
       "      <td>1225.300049</td>\n",
       "      <td>1225.300049</td>\n",
       "      <td>189.0</td>\n",
       "      <td>Celebrity couples we would like to see as pare...</td>\n",
       "      <td>Celebrity couples would like see parents five ...</td>\n",
       "      <td>0.061007</td>\n",
       "      <td>0.376576</td>\n",
       "      <td>positive</td>\n",
       "      <td>-0.9998</td>\n",
       "      <td>0.169</td>\n",
       "      <td>0.724</td>\n",
       "      <td>0.107</td>\n",
       "    </tr>\n",
       "    <tr>\n",
       "      <th>...</th>\n",
       "      <td>...</td>\n",
       "      <td>...</td>\n",
       "      <td>...</td>\n",
       "      <td>...</td>\n",
       "      <td>...</td>\n",
       "      <td>...</td>\n",
       "      <td>...</td>\n",
       "      <td>...</td>\n",
       "      <td>...</td>\n",
       "      <td>...</td>\n",
       "      <td>...</td>\n",
       "      <td>...</td>\n",
       "      <td>...</td>\n",
       "      <td>...</td>\n",
       "      <td>...</td>\n",
       "      <td>...</td>\n",
       "    </tr>\n",
       "    <tr>\n",
       "      <th>1691</th>\n",
       "      <td>2020-06-25 00:00:00+00:00</td>\n",
       "      <td>1761.699951</td>\n",
       "      <td>1764.800049</td>\n",
       "      <td>1759.800049</td>\n",
       "      <td>1762.099976</td>\n",
       "      <td>1762.099976</td>\n",
       "      <td>207.0</td>\n",
       "      <td>Truck firms look for new export markets to sel...</td>\n",
       "      <td>Truck firms look new export markets sell BS6 r...</td>\n",
       "      <td>0.002395</td>\n",
       "      <td>0.388167</td>\n",
       "      <td>positive</td>\n",
       "      <td>-0.9999</td>\n",
       "      <td>0.169</td>\n",
       "      <td>0.760</td>\n",
       "      <td>0.071</td>\n",
       "    </tr>\n",
       "    <tr>\n",
       "      <th>1692</th>\n",
       "      <td>2020-06-26 00:00:00+00:00</td>\n",
       "      <td>1766.000000</td>\n",
       "      <td>1772.500000</td>\n",
       "      <td>1764.699951</td>\n",
       "      <td>1772.500000</td>\n",
       "      <td>1772.500000</td>\n",
       "      <td>640.0</td>\n",
       "      <td>Containment zone residents slam high prices ch...</td>\n",
       "      <td>Containment zone residents slam high prices ch...</td>\n",
       "      <td>0.043772</td>\n",
       "      <td>0.360802</td>\n",
       "      <td>positive</td>\n",
       "      <td>-0.9998</td>\n",
       "      <td>0.156</td>\n",
       "      <td>0.750</td>\n",
       "      <td>0.094</td>\n",
       "    </tr>\n",
       "    <tr>\n",
       "      <th>1693</th>\n",
       "      <td>2020-06-28 00:00:00+00:00</td>\n",
       "      <td>1789.199951</td>\n",
       "      <td>1790.400024</td>\n",
       "      <td>1785.000000</td>\n",
       "      <td>1785.300049</td>\n",
       "      <td>1785.300049</td>\n",
       "      <td>500645.0</td>\n",
       "      <td>Atanu Ghosh plans to rewrite old scripts to ma...</td>\n",
       "      <td>Atanu Ghosh plans rewrite old scripts make rel...</td>\n",
       "      <td>0.039826</td>\n",
       "      <td>0.400228</td>\n",
       "      <td>positive</td>\n",
       "      <td>-0.9999</td>\n",
       "      <td>0.160</td>\n",
       "      <td>0.756</td>\n",
       "      <td>0.085</td>\n",
       "    </tr>\n",
       "    <tr>\n",
       "      <th>1694</th>\n",
       "      <td>2020-06-29 00:00:00+00:00</td>\n",
       "      <td>1779.800049</td>\n",
       "      <td>1780.199951</td>\n",
       "      <td>1774.300049</td>\n",
       "      <td>1774.800049</td>\n",
       "      <td>1774.800049</td>\n",
       "      <td>584.0</td>\n",
       "      <td>6 hot and stylish bikini looks of Katrina Kaif...</td>\n",
       "      <td>6 hot stylish bikini looks Katrina Kaif Anna E...</td>\n",
       "      <td>0.045736</td>\n",
       "      <td>0.378385</td>\n",
       "      <td>positive</td>\n",
       "      <td>-0.9998</td>\n",
       "      <td>0.154</td>\n",
       "      <td>0.755</td>\n",
       "      <td>0.092</td>\n",
       "    </tr>\n",
       "    <tr>\n",
       "      <th>1695</th>\n",
       "      <td>2020-06-30 00:00:00+00:00</td>\n",
       "      <td>1777.300049</td>\n",
       "      <td>1793.199951</td>\n",
       "      <td>1774.400024</td>\n",
       "      <td>1793.000000</td>\n",
       "      <td>1793.000000</td>\n",
       "      <td>986.0</td>\n",
       "      <td>Detective Byomkesh Bakshy! Edge of Tomorrow Fi...</td>\n",
       "      <td>Detective Byomkesh Bakshy Edge Tomorrow First ...</td>\n",
       "      <td>0.055565</td>\n",
       "      <td>0.372053</td>\n",
       "      <td>positive</td>\n",
       "      <td>-0.9998</td>\n",
       "      <td>0.138</td>\n",
       "      <td>0.789</td>\n",
       "      <td>0.073</td>\n",
       "    </tr>\n",
       "  </tbody>\n",
       "</table>\n",
       "<p>1696 rows × 16 columns</p>\n",
       "</div>"
      ],
      "text/plain": [
       "                          Date         Open  ...  Neutral  Positive\n",
       "0    2014-01-02 00:00:00+00:00  1204.300049  ...    0.728     0.116\n",
       "1    2014-01-03 00:00:00+00:00  1221.699951  ...    0.717     0.116\n",
       "2    2014-01-06 00:00:00+00:00  1232.800049  ...    0.723     0.118\n",
       "3    2014-01-07 00:00:00+00:00  1239.300049  ...    0.736     0.086\n",
       "4    2014-01-08 00:00:00+00:00  1227.500000  ...    0.724     0.107\n",
       "...                        ...          ...  ...      ...       ...\n",
       "1691 2020-06-25 00:00:00+00:00  1761.699951  ...    0.760     0.071\n",
       "1692 2020-06-26 00:00:00+00:00  1766.000000  ...    0.750     0.094\n",
       "1693 2020-06-28 00:00:00+00:00  1789.199951  ...    0.756     0.085\n",
       "1694 2020-06-29 00:00:00+00:00  1779.800049  ...    0.755     0.092\n",
       "1695 2020-06-30 00:00:00+00:00  1777.300049  ...    0.789     0.073\n",
       "\n",
       "[1696 rows x 16 columns]"
      ]
     },
     "execution_count": 65,
     "metadata": {
      "tags": []
     },
     "output_type": "execute_result"
    }
   ],
   "source": [
    "df_merge = pd.merge(df_stock,df_news,how='inner', on=\"Date\")\n",
    "df_merge"
   ]
  },
  {
   "cell_type": "code",
   "execution_count": 66,
   "metadata": {
    "colab": {
     "base_uri": "https://localhost:8080/",
     "height": 419
    },
    "id": "luYtf8Fgr4qR",
    "outputId": "304e0777-b721-43f7-ed4b-8df0847272af"
   },
   "outputs": [
    {
     "data": {
      "text/html": [
       "<div>\n",
       "<style scoped>\n",
       "    .dataframe tbody tr th:only-of-type {\n",
       "        vertical-align: middle;\n",
       "    }\n",
       "\n",
       "    .dataframe tbody tr th {\n",
       "        vertical-align: top;\n",
       "    }\n",
       "\n",
       "    .dataframe thead th {\n",
       "        text-align: right;\n",
       "    }\n",
       "</style>\n",
       "<table border=\"1\" class=\"dataframe\">\n",
       "  <thead>\n",
       "    <tr style=\"text-align: right;\">\n",
       "      <th></th>\n",
       "      <th>Close</th>\n",
       "      <th>subjectivity</th>\n",
       "      <th>polarity</th>\n",
       "      <th>Compound</th>\n",
       "      <th>Negative</th>\n",
       "      <th>Neutral</th>\n",
       "      <th>Positive</th>\n",
       "    </tr>\n",
       "  </thead>\n",
       "  <tbody>\n",
       "    <tr>\n",
       "      <th>0</th>\n",
       "      <td>1225.000000</td>\n",
       "      <td>0.460266</td>\n",
       "      <td>0.081661</td>\n",
       "      <td>-0.9996</td>\n",
       "      <td>0.156</td>\n",
       "      <td>0.728</td>\n",
       "      <td>0.116</td>\n",
       "    </tr>\n",
       "    <tr>\n",
       "      <th>1</th>\n",
       "      <td>1238.400024</td>\n",
       "      <td>0.371817</td>\n",
       "      <td>0.028246</td>\n",
       "      <td>-0.9998</td>\n",
       "      <td>0.168</td>\n",
       "      <td>0.717</td>\n",
       "      <td>0.116</td>\n",
       "    </tr>\n",
       "    <tr>\n",
       "      <th>2</th>\n",
       "      <td>1237.800049</td>\n",
       "      <td>0.387522</td>\n",
       "      <td>0.048331</td>\n",
       "      <td>-0.9997</td>\n",
       "      <td>0.160</td>\n",
       "      <td>0.723</td>\n",
       "      <td>0.118</td>\n",
       "    </tr>\n",
       "    <tr>\n",
       "      <th>3</th>\n",
       "      <td>1229.400024</td>\n",
       "      <td>0.399507</td>\n",
       "      <td>-0.003358</td>\n",
       "      <td>-0.9999</td>\n",
       "      <td>0.178</td>\n",
       "      <td>0.736</td>\n",
       "      <td>0.086</td>\n",
       "    </tr>\n",
       "    <tr>\n",
       "      <th>4</th>\n",
       "      <td>1225.300049</td>\n",
       "      <td>0.376576</td>\n",
       "      <td>0.061007</td>\n",
       "      <td>-0.9998</td>\n",
       "      <td>0.169</td>\n",
       "      <td>0.724</td>\n",
       "      <td>0.107</td>\n",
       "    </tr>\n",
       "    <tr>\n",
       "      <th>...</th>\n",
       "      <td>...</td>\n",
       "      <td>...</td>\n",
       "      <td>...</td>\n",
       "      <td>...</td>\n",
       "      <td>...</td>\n",
       "      <td>...</td>\n",
       "      <td>...</td>\n",
       "    </tr>\n",
       "    <tr>\n",
       "      <th>1691</th>\n",
       "      <td>1762.099976</td>\n",
       "      <td>0.388167</td>\n",
       "      <td>0.002395</td>\n",
       "      <td>-0.9999</td>\n",
       "      <td>0.169</td>\n",
       "      <td>0.760</td>\n",
       "      <td>0.071</td>\n",
       "    </tr>\n",
       "    <tr>\n",
       "      <th>1692</th>\n",
       "      <td>1772.500000</td>\n",
       "      <td>0.360802</td>\n",
       "      <td>0.043772</td>\n",
       "      <td>-0.9998</td>\n",
       "      <td>0.156</td>\n",
       "      <td>0.750</td>\n",
       "      <td>0.094</td>\n",
       "    </tr>\n",
       "    <tr>\n",
       "      <th>1693</th>\n",
       "      <td>1785.300049</td>\n",
       "      <td>0.400228</td>\n",
       "      <td>0.039826</td>\n",
       "      <td>-0.9999</td>\n",
       "      <td>0.160</td>\n",
       "      <td>0.756</td>\n",
       "      <td>0.085</td>\n",
       "    </tr>\n",
       "    <tr>\n",
       "      <th>1694</th>\n",
       "      <td>1774.800049</td>\n",
       "      <td>0.378385</td>\n",
       "      <td>0.045736</td>\n",
       "      <td>-0.9998</td>\n",
       "      <td>0.154</td>\n",
       "      <td>0.755</td>\n",
       "      <td>0.092</td>\n",
       "    </tr>\n",
       "    <tr>\n",
       "      <th>1695</th>\n",
       "      <td>1793.000000</td>\n",
       "      <td>0.372053</td>\n",
       "      <td>0.055565</td>\n",
       "      <td>-0.9998</td>\n",
       "      <td>0.138</td>\n",
       "      <td>0.789</td>\n",
       "      <td>0.073</td>\n",
       "    </tr>\n",
       "  </tbody>\n",
       "</table>\n",
       "<p>1696 rows × 7 columns</p>\n",
       "</div>"
      ],
      "text/plain": [
       "            Close  subjectivity  polarity  ...  Negative  Neutral  Positive\n",
       "0     1225.000000      0.460266  0.081661  ...     0.156    0.728     0.116\n",
       "1     1238.400024      0.371817  0.028246  ...     0.168    0.717     0.116\n",
       "2     1237.800049      0.387522  0.048331  ...     0.160    0.723     0.118\n",
       "3     1229.400024      0.399507 -0.003358  ...     0.178    0.736     0.086\n",
       "4     1225.300049      0.376576  0.061007  ...     0.169    0.724     0.107\n",
       "...           ...           ...       ...  ...       ...      ...       ...\n",
       "1691  1762.099976      0.388167  0.002395  ...     0.169    0.760     0.071\n",
       "1692  1772.500000      0.360802  0.043772  ...     0.156    0.750     0.094\n",
       "1693  1785.300049      0.400228  0.039826  ...     0.160    0.756     0.085\n",
       "1694  1774.800049      0.378385  0.045736  ...     0.154    0.755     0.092\n",
       "1695  1793.000000      0.372053  0.055565  ...     0.138    0.789     0.073\n",
       "\n",
       "[1696 rows x 7 columns]"
      ]
     },
     "execution_count": 66,
     "metadata": {
      "tags": []
     },
     "output_type": "execute_result"
    }
   ],
   "source": [
    "df = df_merge[['Close','subjectivity', 'polarity', 'Compound', 'Negative', 'Neutral' ,'Positive']]\n",
    "df"
   ]
  },
  {
   "cell_type": "code",
   "execution_count": 67,
   "metadata": {
    "colab": {
     "base_uri": "https://localhost:8080/",
     "height": 204
    },
    "id": "JllFkafssHND",
    "outputId": "51de08e5-36d1-4dc4-bf6a-f9414c7b96ad"
   },
   "outputs": [
    {
     "data": {
      "text/html": [
       "<div>\n",
       "<style scoped>\n",
       "    .dataframe tbody tr th:only-of-type {\n",
       "        vertical-align: middle;\n",
       "    }\n",
       "\n",
       "    .dataframe tbody tr th {\n",
       "        vertical-align: top;\n",
       "    }\n",
       "\n",
       "    .dataframe thead th {\n",
       "        text-align: right;\n",
       "    }\n",
       "</style>\n",
       "<table border=\"1\" class=\"dataframe\">\n",
       "  <thead>\n",
       "    <tr style=\"text-align: right;\">\n",
       "      <th></th>\n",
       "      <th>Close</th>\n",
       "      <th>subjectivity</th>\n",
       "      <th>polarity</th>\n",
       "      <th>Compound</th>\n",
       "      <th>Negative</th>\n",
       "      <th>Neutral</th>\n",
       "      <th>Positive</th>\n",
       "    </tr>\n",
       "  </thead>\n",
       "  <tbody>\n",
       "    <tr>\n",
       "      <th>0</th>\n",
       "      <td>0.234708</td>\n",
       "      <td>0.956647</td>\n",
       "      <td>0.629912</td>\n",
       "      <td>0.00020</td>\n",
       "      <td>0.495146</td>\n",
       "      <td>0.386792</td>\n",
       "      <td>0.468468</td>\n",
       "    </tr>\n",
       "    <tr>\n",
       "      <th>1</th>\n",
       "      <td>0.252762</td>\n",
       "      <td>0.346929</td>\n",
       "      <td>0.356654</td>\n",
       "      <td>0.00010</td>\n",
       "      <td>0.611650</td>\n",
       "      <td>0.283019</td>\n",
       "      <td>0.468468</td>\n",
       "    </tr>\n",
       "    <tr>\n",
       "      <th>2</th>\n",
       "      <td>0.251954</td>\n",
       "      <td>0.455192</td>\n",
       "      <td>0.459405</td>\n",
       "      <td>0.00015</td>\n",
       "      <td>0.533981</td>\n",
       "      <td>0.339623</td>\n",
       "      <td>0.486486</td>\n",
       "    </tr>\n",
       "    <tr>\n",
       "      <th>3</th>\n",
       "      <td>0.240636</td>\n",
       "      <td>0.537808</td>\n",
       "      <td>0.194970</td>\n",
       "      <td>0.00005</td>\n",
       "      <td>0.708738</td>\n",
       "      <td>0.462264</td>\n",
       "      <td>0.198198</td>\n",
       "    </tr>\n",
       "    <tr>\n",
       "      <th>4</th>\n",
       "      <td>0.235112</td>\n",
       "      <td>0.379733</td>\n",
       "      <td>0.524250</td>\n",
       "      <td>0.00010</td>\n",
       "      <td>0.621359</td>\n",
       "      <td>0.349057</td>\n",
       "      <td>0.387387</td>\n",
       "    </tr>\n",
       "  </tbody>\n",
       "</table>\n",
       "</div>"
      ],
      "text/plain": [
       "      Close  subjectivity  polarity  Compound  Negative   Neutral  Positive\n",
       "0  0.234708      0.956647  0.629912   0.00020  0.495146  0.386792  0.468468\n",
       "1  0.252762      0.346929  0.356654   0.00010  0.611650  0.283019  0.468468\n",
       "2  0.251954      0.455192  0.459405   0.00015  0.533981  0.339623  0.486486\n",
       "3  0.240636      0.537808  0.194970   0.00005  0.708738  0.462264  0.198198\n",
       "4  0.235112      0.379733  0.524250   0.00010  0.621359  0.349057  0.387387"
      ]
     },
     "execution_count": 67,
     "metadata": {
      "tags": []
     },
     "output_type": "execute_result"
    }
   ],
   "source": [
    "from sklearn.preprocessing import MinMaxScaler\n",
    "sc = MinMaxScaler()\n",
    "new_df = pd.DataFrame(sc.fit_transform(df))\n",
    "new_df.columns = df.columns\n",
    "new_df.index = df.index\n",
    "new_df.head()"
   ]
  },
  {
   "cell_type": "code",
   "execution_count": 68,
   "metadata": {
    "id": "OZLtzpFBsV0F"
   },
   "outputs": [],
   "source": [
    "X = new_df.drop('Close', axis=1)\n",
    "y =new_df['Close']\n",
    "x_train, x_test, y_train, y_test = train_test_split(X, y, test_size=0.2, random_state = 0)"
   ]
  },
  {
   "cell_type": "code",
   "execution_count": 69,
   "metadata": {
    "colab": {
     "base_uri": "https://localhost:8080/"
    },
    "id": "bKyF_c-XuZjv",
    "outputId": "efd13e63-2fef-403c-c6fe-e8cc788b00e8"
   },
   "outputs": [
    {
     "name": "stdout",
     "output_type": "stream",
     "text": [
      "0.045067886011537626\n"
     ]
    }
   ],
   "source": [
    "from sklearn.tree import DecisionTreeRegressor\n",
    "dec_tree = DecisionTreeRegressor()\n",
    "dec_tree.fit(x_train, y_train)\n",
    "predictions = dec_tree.predict(x_test)\n",
    "print(mean_squared_error(predictions,y_test))"
   ]
  },
  {
   "cell_type": "code",
   "execution_count": 70,
   "metadata": {
    "colab": {
     "base_uri": "https://localhost:8080/"
    },
    "id": "dayElzqjsnBf",
    "outputId": "11c8f275-53fb-4413-afb6-26447d1911d7"
   },
   "outputs": [
    {
     "name": "stdout",
     "output_type": "stream",
     "text": [
      "0.021332802016011624\n"
     ]
    }
   ],
   "source": [
    "rf = RandomForestRegressor()\n",
    "rf.fit(x_train, y_train)\n",
    "prediction=rf.predict(x_test)\n",
    "print(mean_squared_error(prediction,y_test))"
   ]
  },
  {
   "cell_type": "code",
   "execution_count": 71,
   "metadata": {
    "colab": {
     "base_uri": "https://localhost:8080/"
    },
    "id": "Z0x6SnCHuNPo",
    "outputId": "2728f691-25fa-4582-c3a5-1ab589cb77b4"
   },
   "outputs": [
    {
     "name": "stdout",
     "output_type": "stream",
     "text": [
      "0.025459082974434215\n"
     ]
    }
   ],
   "source": [
    "adb = AdaBoostRegressor()\n",
    "adb.fit(x_train, y_train)\n",
    "predictions = adb.predict(x_test)\n",
    "print(mean_squared_error(predictions,y_test))"
   ]
  },
  {
   "cell_type": "markdown",
   "metadata": {},
   "source": [
    "# OTHER MODELS THAT CAN BE USED: SVM; LDA; XGBoost etc.."
   ]
  }
 ],
 "metadata": {
  "colab": {
   "collapsed_sections": [],
   "name": "HybridModel(Task-7).ipynb",
   "provenance": []
  },
  "kernelspec": {
   "display_name": "Python 3",
   "language": "python",
   "name": "python3"
  },
  "language_info": {
   "codemirror_mode": {
    "name": "ipython",
    "version": 3
   },
   "file_extension": ".py",
   "mimetype": "text/x-python",
   "name": "python",
   "nbconvert_exporter": "python",
   "pygments_lexer": "ipython3",
   "version": "3.7.4"
  }
 },
 "nbformat": 4,
 "nbformat_minor": 1
}
