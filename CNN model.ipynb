{
 "cells": [
  {
   "cell_type": "code",
   "execution_count": 1,
   "metadata": {
    "colab": {
     "base_uri": "https://localhost:8080/",
     "height": 768
    },
    "id": "O3eakjbEp8nH",
    "outputId": "08a9c129-bc26-4cf0-b9cd-755793f70376"
   },
   "outputs": [
    {
     "name": "stdout",
     "output_type": "stream",
     "text": [
      "Collecting tensorflow\n",
      "\u001b[?25l  Downloading https://files.pythonhosted.org/packages/ad/ad/769c195c72ac72040635c66cd9ba7b0f4b4fc1ac67e59b99fa6988446c22/tensorflow-2.3.1-cp36-cp36m-manylinux2010_x86_64.whl (320.4MB)\n",
      "\u001b[K     |████████████████████████████████| 320.4MB 55kB/s \n",
      "\u001b[?25hRequirement already satisfied, skipping upgrade: astunparse==1.6.3 in /usr/local/lib/python3.6/dist-packages (from tensorflow) (1.6.3)\n",
      "Requirement already satisfied, skipping upgrade: absl-py>=0.7.0 in /usr/local/lib/python3.6/dist-packages (from tensorflow) (0.10.0)\n",
      "Requirement already satisfied, skipping upgrade: google-pasta>=0.1.8 in /usr/local/lib/python3.6/dist-packages (from tensorflow) (0.2.0)\n",
      "Requirement already satisfied, skipping upgrade: protobuf>=3.9.2 in /usr/local/lib/python3.6/dist-packages (from tensorflow) (3.12.4)\n",
      "Requirement already satisfied, skipping upgrade: numpy<1.19.0,>=1.16.0 in /usr/local/lib/python3.6/dist-packages (from tensorflow) (1.18.5)\n",
      "Requirement already satisfied, skipping upgrade: wrapt>=1.11.1 in /usr/local/lib/python3.6/dist-packages (from tensorflow) (1.12.1)\n",
      "Requirement already satisfied, skipping upgrade: h5py<2.11.0,>=2.10.0 in /usr/local/lib/python3.6/dist-packages (from tensorflow) (2.10.0)\n",
      "Requirement already satisfied, skipping upgrade: keras-preprocessing<1.2,>=1.1.1 in /usr/local/lib/python3.6/dist-packages (from tensorflow) (1.1.2)\n",
      "Requirement already satisfied, skipping upgrade: opt-einsum>=2.3.2 in /usr/local/lib/python3.6/dist-packages (from tensorflow) (3.3.0)\n",
      "Requirement already satisfied, skipping upgrade: tensorflow-estimator<2.4.0,>=2.3.0 in /usr/local/lib/python3.6/dist-packages (from tensorflow) (2.3.0)\n",
      "Requirement already satisfied, skipping upgrade: wheel>=0.26 in /usr/local/lib/python3.6/dist-packages (from tensorflow) (0.35.1)\n",
      "Requirement already satisfied, skipping upgrade: tensorboard<3,>=2.3.0 in /usr/local/lib/python3.6/dist-packages (from tensorflow) (2.3.0)\n",
      "Requirement already satisfied, skipping upgrade: termcolor>=1.1.0 in /usr/local/lib/python3.6/dist-packages (from tensorflow) (1.1.0)\n",
      "Requirement already satisfied, skipping upgrade: six>=1.12.0 in /usr/local/lib/python3.6/dist-packages (from tensorflow) (1.15.0)\n",
      "Requirement already satisfied, skipping upgrade: gast==0.3.3 in /usr/local/lib/python3.6/dist-packages (from tensorflow) (0.3.3)\n",
      "Requirement already satisfied, skipping upgrade: grpcio>=1.8.6 in /usr/local/lib/python3.6/dist-packages (from tensorflow) (1.32.0)\n",
      "Requirement already satisfied, skipping upgrade: setuptools in /usr/local/lib/python3.6/dist-packages (from protobuf>=3.9.2->tensorflow) (50.3.0)\n",
      "Requirement already satisfied, skipping upgrade: google-auth-oauthlib<0.5,>=0.4.1 in /usr/local/lib/python3.6/dist-packages (from tensorboard<3,>=2.3.0->tensorflow) (0.4.1)\n",
      "Requirement already satisfied, skipping upgrade: werkzeug>=0.11.15 in /usr/local/lib/python3.6/dist-packages (from tensorboard<3,>=2.3.0->tensorflow) (1.0.1)\n",
      "Requirement already satisfied, skipping upgrade: markdown>=2.6.8 in /usr/local/lib/python3.6/dist-packages (from tensorboard<3,>=2.3.0->tensorflow) (3.2.2)\n",
      "Requirement already satisfied, skipping upgrade: google-auth<2,>=1.6.3 in /usr/local/lib/python3.6/dist-packages (from tensorboard<3,>=2.3.0->tensorflow) (1.17.2)\n",
      "Requirement already satisfied, skipping upgrade: tensorboard-plugin-wit>=1.6.0 in /usr/local/lib/python3.6/dist-packages (from tensorboard<3,>=2.3.0->tensorflow) (1.7.0)\n",
      "Requirement already satisfied, skipping upgrade: requests<3,>=2.21.0 in /usr/local/lib/python3.6/dist-packages (from tensorboard<3,>=2.3.0->tensorflow) (2.23.0)\n",
      "Requirement already satisfied, skipping upgrade: requests-oauthlib>=0.7.0 in /usr/local/lib/python3.6/dist-packages (from google-auth-oauthlib<0.5,>=0.4.1->tensorboard<3,>=2.3.0->tensorflow) (1.3.0)\n",
      "Requirement already satisfied, skipping upgrade: importlib-metadata; python_version < \"3.8\" in /usr/local/lib/python3.6/dist-packages (from markdown>=2.6.8->tensorboard<3,>=2.3.0->tensorflow) (2.0.0)\n",
      "Requirement already satisfied, skipping upgrade: rsa<5,>=3.1.4; python_version >= \"3\" in /usr/local/lib/python3.6/dist-packages (from google-auth<2,>=1.6.3->tensorboard<3,>=2.3.0->tensorflow) (4.6)\n",
      "Requirement already satisfied, skipping upgrade: pyasn1-modules>=0.2.1 in /usr/local/lib/python3.6/dist-packages (from google-auth<2,>=1.6.3->tensorboard<3,>=2.3.0->tensorflow) (0.2.8)\n",
      "Requirement already satisfied, skipping upgrade: cachetools<5.0,>=2.0.0 in /usr/local/lib/python3.6/dist-packages (from google-auth<2,>=1.6.3->tensorboard<3,>=2.3.0->tensorflow) (4.1.1)\n",
      "Requirement already satisfied, skipping upgrade: idna<3,>=2.5 in /usr/local/lib/python3.6/dist-packages (from requests<3,>=2.21.0->tensorboard<3,>=2.3.0->tensorflow) (2.10)\n",
      "Requirement already satisfied, skipping upgrade: certifi>=2017.4.17 in /usr/local/lib/python3.6/dist-packages (from requests<3,>=2.21.0->tensorboard<3,>=2.3.0->tensorflow) (2020.6.20)\n",
      "Requirement already satisfied, skipping upgrade: chardet<4,>=3.0.2 in /usr/local/lib/python3.6/dist-packages (from requests<3,>=2.21.0->tensorboard<3,>=2.3.0->tensorflow) (3.0.4)\n",
      "Requirement already satisfied, skipping upgrade: urllib3!=1.25.0,!=1.25.1,<1.26,>=1.21.1 in /usr/local/lib/python3.6/dist-packages (from requests<3,>=2.21.0->tensorboard<3,>=2.3.0->tensorflow) (1.24.3)\n",
      "Requirement already satisfied, skipping upgrade: oauthlib>=3.0.0 in /usr/local/lib/python3.6/dist-packages (from requests-oauthlib>=0.7.0->google-auth-oauthlib<0.5,>=0.4.1->tensorboard<3,>=2.3.0->tensorflow) (3.1.0)\n",
      "Requirement already satisfied, skipping upgrade: zipp>=0.5 in /usr/local/lib/python3.6/dist-packages (from importlib-metadata; python_version < \"3.8\"->markdown>=2.6.8->tensorboard<3,>=2.3.0->tensorflow) (3.2.0)\n",
      "Requirement already satisfied, skipping upgrade: pyasn1>=0.1.3 in /usr/local/lib/python3.6/dist-packages (from rsa<5,>=3.1.4; python_version >= \"3\"->google-auth<2,>=1.6.3->tensorboard<3,>=2.3.0->tensorflow) (0.4.8)\n",
      "Installing collected packages: tensorflow\n",
      "  Found existing installation: tensorflow 2.3.0\n",
      "    Uninstalling tensorflow-2.3.0:\n",
      "      Successfully uninstalled tensorflow-2.3.0\n",
      "Successfully installed tensorflow-2.3.1\n"
     ]
    }
   ],
   "source": [
    "!pip install --upgrade tensorflow"
   ]
  },
  {
   "cell_type": "code",
   "execution_count": 2,
   "metadata": {
    "id": "MOvXpNlCqaYY"
   },
   "outputs": [],
   "source": [
    "# Import all modules\n",
    "import numpy as np\n",
    "import pandas as pd\n",
    "import matplotlib.pyplot as plt\n",
    "import seaborn as sns\n",
    "from keras import models\n",
    "from keras import layers\n",
    "from keras import optimizers\n",
    "from keras.utils import to_categorical\n",
    "import tensorflow as tf"
   ]
  },
  {
   "cell_type": "code",
   "execution_count": 3,
   "metadata": {
    "colab": {
     "base_uri": "https://localhost:8080/",
     "height": 51
    },
    "id": "P6BjSnB4q0u8",
    "outputId": "c70972b6-b24d-4741-f18f-4ecb1f55a377"
   },
   "outputs": [
    {
     "name": "stdout",
     "output_type": "stream",
     "text": [
      "Downloading data from https://www.cs.toronto.edu/~kriz/cifar-10-python.tar.gz\n",
      "170500096/170498071 [==============================] - 4s 0us/step\n"
     ]
    }
   ],
   "source": [
    "# Loading the CIFAR-10 datasets\n",
    "data=tf.keras.datasets.cifar10\n",
    "(x_train,y_train),(x_test,y_test)=tf.keras.datasets.cifar10.load_data()"
   ]
  },
  {
   "cell_type": "code",
   "execution_count": 8,
   "metadata": {
    "colab": {
     "base_uri": "https://localhost:8080/",
     "height": 68
    },
    "id": "rDsMd7WXq05o",
    "outputId": "033036c4-f5f0-42f3-aa6d-c44833fc85c4"
   },
   "outputs": [
    {
     "name": "stdout",
     "output_type": "stream",
     "text": [
      "(50000, 32, 32, 3) (50000, 10)\n",
      "(10000, 32, 32, 3) (10000, 10)\n",
      "(32, 32, 3)\n"
     ]
    }
   ],
   "source": [
    "print(x_train.shape,y_train.shape)\n",
    "print(x_test.shape,y_test.shape)\n",
    "#print(x_train.shape[1:])"
   ]
  },
  {
   "cell_type": "code",
   "execution_count": 14,
   "metadata": {
    "colab": {
     "base_uri": "https://localhost:8080/",
     "height": 268
    },
    "id": "hHcmJGQ_q096",
    "outputId": "d2fea5a0-6df0-490e-f5f8-f7ca3063f8b6"
   },
   "outputs": [
    {
     "data": {
      "image/png": "[encoded data removed]",
      "text/plain": [
       "<Figure size 432x288 with 9 Axes>"
      ]
     },
     "metadata": {
      "needs_background": "light",
      "tags": []
     },
     "output_type": "display_data"
    }
   ],
   "source": [
    "for i in range(9):\n",
    "  plt.subplot(330+1+i)\n",
    "  plt.imshow(x_train[i])"
   ]
  },
  {
   "cell_type": "code",
   "execution_count": 5,
   "metadata": {
    "colab": {
     "base_uri": "https://localhost:8080/",
     "height": 136
    },
    "id": "-XdFwaekq1Bl",
    "outputId": "0ef0e1ed-2c34-4963-e88c-20c0767afd4d"
   },
   "outputs": [
    {
     "name": "stdout",
     "output_type": "stream",
     "text": [
      "[[0. 0. 0. ... 0. 0. 0.]\n",
      " [0. 0. 0. ... 0. 0. 1.]\n",
      " [0. 0. 0. ... 0. 0. 1.]\n",
      " ...\n",
      " [0. 0. 0. ... 0. 0. 1.]\n",
      " [0. 1. 0. ... 0. 0. 0.]\n",
      " [0. 1. 0. ... 0. 0. 0.]]\n"
     ]
    }
   ],
   "source": [
    "# use a one hot encoding for each class thereby transforming the integer into a 10 element binary vector this is achieved by using to_categorical() utlis function.\n",
    "from keras.utils import np_utils\n",
    "y_train=np_utils.to_categorical(y_train, num_classes=10, dtype='float32') #num_classes – number of cifar-10 dataset classes\n",
    "y_test=np_utils.to_categorical(y_test, num_classes=10, dtype='float32')\n",
    "print(y_train)"
   ]
  },
  {
   "cell_type": "code",
   "execution_count": 6,
   "metadata": {
    "colab": {
     "base_uri": "https://localhost:8080/",
     "height": 1000
    },
    "id": "MsJTgLZbq1E2",
    "outputId": "d5be10fd-16c1-40c7-f3ff-8027ba99df4e"
   },
   "outputs": [
    {
     "data": {
      "text/plain": [
       "array([[[[0.23137255, 0.24313726, 0.24705882],\n",
       "         [0.16862746, 0.18039216, 0.1764706 ],\n",
       "         [0.19607843, 0.1882353 , 0.16862746],\n",
       "         ...,\n",
       "         [0.61960787, 0.5176471 , 0.42352942],\n",
       "         [0.59607846, 0.49019608, 0.4       ],\n",
       "         [0.5803922 , 0.4862745 , 0.40392157]],\n",
       "\n",
       "        [[0.0627451 , 0.07843138, 0.07843138],\n",
       "         [0.        , 0.        , 0.        ],\n",
       "         [0.07058824, 0.03137255, 0.        ],\n",
       "         ...,\n",
       "         [0.48235294, 0.34509805, 0.21568628],\n",
       "         [0.46666667, 0.3254902 , 0.19607843],\n",
       "         [0.47843137, 0.34117648, 0.22352941]],\n",
       "\n",
       "        [[0.09803922, 0.09411765, 0.08235294],\n",
       "         [0.0627451 , 0.02745098, 0.        ],\n",
       "         [0.19215687, 0.10588235, 0.03137255],\n",
       "         ...,\n",
       "         [0.4627451 , 0.32941177, 0.19607843],\n",
       "         [0.47058824, 0.32941177, 0.19607843],\n",
       "         [0.42745098, 0.28627452, 0.16470589]],\n",
       "\n",
       "        ...,\n",
       "\n",
       "        [[0.8156863 , 0.6666667 , 0.3764706 ],\n",
       "         [0.7882353 , 0.6       , 0.13333334],\n",
       "         [0.7764706 , 0.6313726 , 0.10196079],\n",
       "         ...,\n",
       "         [0.627451  , 0.52156866, 0.27450982],\n",
       "         [0.21960784, 0.12156863, 0.02745098],\n",
       "         [0.20784314, 0.13333334, 0.07843138]],\n",
       "\n",
       "        [[0.7058824 , 0.54509807, 0.3764706 ],\n",
       "         [0.6784314 , 0.48235294, 0.16470589],\n",
       "         [0.7294118 , 0.5647059 , 0.11764706],\n",
       "         ...,\n",
       "         [0.72156864, 0.5803922 , 0.36862746],\n",
       "         [0.38039216, 0.24313726, 0.13333334],\n",
       "         [0.3254902 , 0.20784314, 0.13333334]],\n",
       "\n",
       "        [[0.69411767, 0.5647059 , 0.45490196],\n",
       "         [0.65882355, 0.5058824 , 0.36862746],\n",
       "         [0.7019608 , 0.5568628 , 0.34117648],\n",
       "         ...,\n",
       "         [0.84705883, 0.72156864, 0.54901963],\n",
       "         [0.5921569 , 0.4627451 , 0.32941177],\n",
       "         [0.48235294, 0.36078432, 0.28235295]]],\n",
       "\n",
       "\n",
       "       [[[0.6039216 , 0.69411767, 0.73333335],\n",
       "         [0.49411765, 0.5372549 , 0.53333336],\n",
       "         [0.4117647 , 0.40784314, 0.37254903],\n",
       "         ...,\n",
       "         [0.35686275, 0.37254903, 0.2784314 ],\n",
       "         [0.34117648, 0.3529412 , 0.2784314 ],\n",
       "         [0.30980393, 0.31764707, 0.27450982]],\n",
       "\n",
       "        [[0.54901963, 0.627451  , 0.6627451 ],\n",
       "         [0.5686275 , 0.6       , 0.6039216 ],\n",
       "         [0.49019608, 0.49019608, 0.4627451 ],\n",
       "         ...,\n",
       "         [0.3764706 , 0.3882353 , 0.30588236],\n",
       "         [0.3019608 , 0.3137255 , 0.24313726],\n",
       "         [0.2784314 , 0.28627452, 0.23921569]],\n",
       "\n",
       "        [[0.54901963, 0.60784316, 0.6431373 ],\n",
       "         [0.54509807, 0.57254905, 0.58431375],\n",
       "         [0.4509804 , 0.4509804 , 0.4392157 ],\n",
       "         ...,\n",
       "         [0.30980393, 0.32156864, 0.2509804 ],\n",
       "         [0.26666668, 0.27450982, 0.21568628],\n",
       "         [0.2627451 , 0.27058825, 0.21568628]],\n",
       "\n",
       "        ...,\n",
       "\n",
       "        [[0.6862745 , 0.654902  , 0.6509804 ],\n",
       "         [0.6117647 , 0.6039216 , 0.627451  ],\n",
       "         [0.6039216 , 0.627451  , 0.6666667 ],\n",
       "         ...,\n",
       "         [0.16470589, 0.13333334, 0.14117648],\n",
       "         [0.23921569, 0.20784314, 0.22352941],\n",
       "         [0.3647059 , 0.3254902 , 0.35686275]],\n",
       "\n",
       "        [[0.64705884, 0.6039216 , 0.5019608 ],\n",
       "         [0.6117647 , 0.59607846, 0.50980395],\n",
       "         [0.62352943, 0.6313726 , 0.5568628 ],\n",
       "         ...,\n",
       "         [0.40392157, 0.3647059 , 0.3764706 ],\n",
       "         [0.48235294, 0.44705883, 0.47058824],\n",
       "         [0.5137255 , 0.4745098 , 0.5137255 ]],\n",
       "\n",
       "        [[0.6392157 , 0.5803922 , 0.47058824],\n",
       "         [0.61960787, 0.5803922 , 0.47843137],\n",
       "         [0.6392157 , 0.6117647 , 0.52156866],\n",
       "         ...,\n",
       "         [0.56078434, 0.52156866, 0.54509807],\n",
       "         [0.56078434, 0.5254902 , 0.5568628 ],\n",
       "         [0.56078434, 0.52156866, 0.5647059 ]]],\n",
       "\n",
       "\n",
       "       [[[1.        , 1.        , 1.        ],\n",
       "         [0.99215686, 0.99215686, 0.99215686],\n",
       "         [0.99215686, 0.99215686, 0.99215686],\n",
       "         ...,\n",
       "         [0.99215686, 0.99215686, 0.99215686],\n",
       "         [0.99215686, 0.99215686, 0.99215686],\n",
       "         [0.99215686, 0.99215686, 0.99215686]],\n",
       "\n",
       "        [[1.        , 1.        , 1.        ],\n",
       "         [1.        , 1.        , 1.        ],\n",
       "         [1.        , 1.        , 1.        ],\n",
       "         ...,\n",
       "         [1.        , 1.        , 1.        ],\n",
       "         [1.        , 1.        , 1.        ],\n",
       "         [1.        , 1.        , 1.        ]],\n",
       "\n",
       "        [[1.        , 1.        , 1.        ],\n",
       "         [0.99607843, 0.99607843, 0.99607843],\n",
       "         [0.99607843, 0.99607843, 0.99607843],\n",
       "         ...,\n",
       "         [0.99607843, 0.99607843, 0.99607843],\n",
       "         [0.99607843, 0.99607843, 0.99607843],\n",
       "         [0.99607843, 0.99607843, 0.99607843]],\n",
       "\n",
       "        ...,\n",
       "\n",
       "        [[0.44313726, 0.47058824, 0.4392157 ],\n",
       "         [0.43529412, 0.4627451 , 0.43529412],\n",
       "         [0.4117647 , 0.4392157 , 0.41568628],\n",
       "         ...,\n",
       "         [0.28235295, 0.31764707, 0.3137255 ],\n",
       "         [0.28235295, 0.3137255 , 0.30980393],\n",
       "         [0.28235295, 0.3137255 , 0.30980393]],\n",
       "\n",
       "        [[0.43529412, 0.4627451 , 0.43137255],\n",
       "         [0.40784314, 0.43529412, 0.40784314],\n",
       "         [0.3882353 , 0.41568628, 0.38431373],\n",
       "         ...,\n",
       "         [0.26666668, 0.29411766, 0.28627452],\n",
       "         [0.27450982, 0.29803923, 0.29411766],\n",
       "         [0.30588236, 0.32941177, 0.32156864]],\n",
       "\n",
       "        [[0.41568628, 0.44313726, 0.4117647 ],\n",
       "         [0.3882353 , 0.41568628, 0.38431373],\n",
       "         [0.37254903, 0.4       , 0.36862746],\n",
       "         ...,\n",
       "         [0.30588236, 0.33333334, 0.3254902 ],\n",
       "         [0.30980393, 0.33333334, 0.3254902 ],\n",
       "         [0.3137255 , 0.3372549 , 0.32941177]]],\n",
       "\n",
       "\n",
       "       ...,\n",
       "\n",
       "\n",
       "       [[[0.13725491, 0.69803923, 0.92156863],\n",
       "         [0.15686275, 0.6901961 , 0.9372549 ],\n",
       "         [0.16470589, 0.6901961 , 0.94509804],\n",
       "         ...,\n",
       "         [0.3882353 , 0.69411767, 0.85882354],\n",
       "         [0.30980393, 0.5764706 , 0.77254903],\n",
       "         [0.34901962, 0.5803922 , 0.7411765 ]],\n",
       "\n",
       "        [[0.22352941, 0.7137255 , 0.91764706],\n",
       "         [0.17254902, 0.72156864, 0.98039216],\n",
       "         [0.19607843, 0.7176471 , 0.9411765 ],\n",
       "         ...,\n",
       "         [0.6117647 , 0.7137255 , 0.78431374],\n",
       "         [0.5529412 , 0.69411767, 0.80784315],\n",
       "         [0.45490196, 0.58431375, 0.6862745 ]],\n",
       "\n",
       "        [[0.38431373, 0.77254903, 0.92941177],\n",
       "         [0.2509804 , 0.7411765 , 0.9882353 ],\n",
       "         [0.27058825, 0.7529412 , 0.9607843 ],\n",
       "         ...,\n",
       "         [0.7372549 , 0.7647059 , 0.80784315],\n",
       "         [0.46666667, 0.5294118 , 0.5764706 ],\n",
       "         [0.23921569, 0.30980393, 0.3529412 ]],\n",
       "\n",
       "        ...,\n",
       "\n",
       "        [[0.28627452, 0.30980393, 0.3019608 ],\n",
       "         [0.20784314, 0.24705882, 0.26666668],\n",
       "         [0.21176471, 0.26666668, 0.3137255 ],\n",
       "         ...,\n",
       "         [0.06666667, 0.15686275, 0.2509804 ],\n",
       "         [0.08235294, 0.14117648, 0.2       ],\n",
       "         [0.12941177, 0.1882353 , 0.19215687]],\n",
       "\n",
       "        [[0.23921569, 0.26666668, 0.29411766],\n",
       "         [0.21568628, 0.27450982, 0.3372549 ],\n",
       "         [0.22352941, 0.30980393, 0.40392157],\n",
       "         ...,\n",
       "         [0.09411765, 0.1882353 , 0.28235295],\n",
       "         [0.06666667, 0.13725491, 0.20784314],\n",
       "         [0.02745098, 0.09019608, 0.1254902 ]],\n",
       "\n",
       "        [[0.17254902, 0.21960784, 0.28627452],\n",
       "         [0.18039216, 0.25882354, 0.34509805],\n",
       "         [0.19215687, 0.3019608 , 0.4117647 ],\n",
       "         ...,\n",
       "         [0.10588235, 0.20392157, 0.3019608 ],\n",
       "         [0.08235294, 0.16862746, 0.25882354],\n",
       "         [0.04705882, 0.12156863, 0.19607843]]],\n",
       "\n",
       "\n",
       "       [[[0.7411765 , 0.827451  , 0.9411765 ],\n",
       "         [0.7294118 , 0.8156863 , 0.9254902 ],\n",
       "         [0.7254902 , 0.8117647 , 0.92156863],\n",
       "         ...,\n",
       "         [0.6862745 , 0.7647059 , 0.8784314 ],\n",
       "         [0.6745098 , 0.7607843 , 0.87058824],\n",
       "         [0.6627451 , 0.7607843 , 0.8627451 ]],\n",
       "\n",
       "        [[0.7607843 , 0.8235294 , 0.9372549 ],\n",
       "         [0.7490196 , 0.8117647 , 0.9254902 ],\n",
       "         [0.74509805, 0.80784315, 0.92156863],\n",
       "         ...,\n",
       "         [0.6784314 , 0.7529412 , 0.8627451 ],\n",
       "         [0.67058825, 0.7490196 , 0.85490197],\n",
       "         [0.654902  , 0.74509805, 0.84705883]],\n",
       "\n",
       "        [[0.8156863 , 0.85882354, 0.95686275],\n",
       "         [0.8039216 , 0.84705883, 0.9411765 ],\n",
       "         [0.8       , 0.84313726, 0.9372549 ],\n",
       "         ...,\n",
       "         [0.6862745 , 0.7490196 , 0.8509804 ],\n",
       "         [0.6745098 , 0.74509805, 0.84705883],\n",
       "         [0.6627451 , 0.7490196 , 0.84313726]],\n",
       "\n",
       "        ...,\n",
       "\n",
       "        [[0.8117647 , 0.78039217, 0.70980394],\n",
       "         [0.79607844, 0.7647059 , 0.6862745 ],\n",
       "         [0.79607844, 0.76862746, 0.6784314 ],\n",
       "         ...,\n",
       "         [0.5294118 , 0.5176471 , 0.49803922],\n",
       "         [0.63529414, 0.61960787, 0.5882353 ],\n",
       "         [0.65882355, 0.6392157 , 0.5921569 ]],\n",
       "\n",
       "        [[0.7764706 , 0.74509805, 0.6666667 ],\n",
       "         [0.7411765 , 0.70980394, 0.62352943],\n",
       "         [0.7058824 , 0.6745098 , 0.5764706 ],\n",
       "         ...,\n",
       "         [0.69803923, 0.67058825, 0.627451  ],\n",
       "         [0.6862745 , 0.6627451 , 0.6117647 ],\n",
       "         [0.6862745 , 0.6627451 , 0.6039216 ]],\n",
       "\n",
       "        [[0.7764706 , 0.7411765 , 0.6784314 ],\n",
       "         [0.7411765 , 0.70980394, 0.63529414],\n",
       "         [0.69803923, 0.6666667 , 0.58431375],\n",
       "         ...,\n",
       "         [0.7647059 , 0.72156864, 0.6627451 ],\n",
       "         [0.76862746, 0.7411765 , 0.67058825],\n",
       "         [0.7647059 , 0.74509805, 0.67058825]]],\n",
       "\n",
       "\n",
       "       [[[0.8980392 , 0.8980392 , 0.9372549 ],\n",
       "         [0.9254902 , 0.92941177, 0.96862745],\n",
       "         [0.91764706, 0.9254902 , 0.96862745],\n",
       "         ...,\n",
       "         [0.8509804 , 0.85882354, 0.9137255 ],\n",
       "         [0.8666667 , 0.8745098 , 0.91764706],\n",
       "         [0.87058824, 0.8745098 , 0.9137255 ]],\n",
       "\n",
       "        [[0.87058824, 0.8666667 , 0.8980392 ],\n",
       "         [0.9372549 , 0.9372549 , 0.9764706 ],\n",
       "         [0.9137255 , 0.91764706, 0.9647059 ],\n",
       "         ...,\n",
       "         [0.8745098 , 0.8745098 , 0.9254902 ],\n",
       "         [0.8901961 , 0.89411765, 0.93333334],\n",
       "         [0.8235294 , 0.827451  , 0.8627451 ]],\n",
       "\n",
       "        [[0.8352941 , 0.80784315, 0.827451  ],\n",
       "         [0.91764706, 0.9098039 , 0.9372549 ],\n",
       "         [0.90588236, 0.9137255 , 0.95686275],\n",
       "         ...,\n",
       "         [0.8627451 , 0.8627451 , 0.9098039 ],\n",
       "         [0.8627451 , 0.85882354, 0.9098039 ],\n",
       "         [0.7921569 , 0.79607844, 0.84313726]],\n",
       "\n",
       "        ...,\n",
       "\n",
       "        [[0.5882353 , 0.56078434, 0.5294118 ],\n",
       "         [0.54901963, 0.5294118 , 0.49803922],\n",
       "         [0.5176471 , 0.49803922, 0.47058824],\n",
       "         ...,\n",
       "         [0.8784314 , 0.87058824, 0.85490197],\n",
       "         [0.9019608 , 0.89411765, 0.88235295],\n",
       "         [0.94509804, 0.94509804, 0.93333334]],\n",
       "\n",
       "        [[0.5372549 , 0.5176471 , 0.49411765],\n",
       "         [0.50980395, 0.49803922, 0.47058824],\n",
       "         [0.49019608, 0.4745098 , 0.4509804 ],\n",
       "         ...,\n",
       "         [0.70980394, 0.7058824 , 0.69803923],\n",
       "         [0.7921569 , 0.7882353 , 0.7764706 ],\n",
       "         [0.83137256, 0.827451  , 0.8117647 ]],\n",
       "\n",
       "        [[0.47843137, 0.46666667, 0.44705883],\n",
       "         [0.4627451 , 0.45490196, 0.43137255],\n",
       "         [0.47058824, 0.45490196, 0.43529412],\n",
       "         ...,\n",
       "         [0.7019608 , 0.69411767, 0.6784314 ],\n",
       "         [0.6431373 , 0.6431373 , 0.63529414],\n",
       "         [0.6392157 , 0.6392157 , 0.6313726 ]]]], dtype=float32)"
      ]
     },
     "execution_count": 6,
     "metadata": {
      "tags": []
     },
     "output_type": "execute_result"
    }
   ],
   "source": [
    "# Convert and pre-processing\n",
    "x_train=x_train.astype('float32')\n",
    "x_test=x_test.astype('float32')\n",
    "x_train=x_train/255.0\n",
    "x_test=x_test/255.0\n",
    "x_train"
   ]
  },
  {
   "cell_type": "code",
   "execution_count": 15,
   "metadata": {
    "colab": {
     "base_uri": "https://localhost:8080/",
     "height": 561
    },
    "id": "AcRQMalkx1gi",
    "outputId": "9972acc2-d00f-4e3f-fd08-a1180a7007d9"
   },
   "outputs": [
    {
     "name": "stdout",
     "output_type": "stream",
     "text": [
      "Model: \"sequential_1\"\n",
      "_________________________________________________________________\n",
      "Layer (type)                 Output Shape              Param #   \n",
      "=================================================================\n",
      "conv2d_4 (Conv2D)            (None, 32, 32, 32)        896       \n",
      "_________________________________________________________________\n",
      "max_pooling2d_2 (MaxPooling2 (None, 16, 16, 32)        0         \n",
      "_________________________________________________________________\n",
      "conv2d_5 (Conv2D)            (None, 16, 16, 32)        9248      \n",
      "_________________________________________________________________\n",
      "dropout_3 (Dropout)          (None, 16, 16, 32)        0         \n",
      "_________________________________________________________________\n",
      "conv2d_6 (Conv2D)            (None, 16, 16, 64)        18496     \n",
      "_________________________________________________________________\n",
      "max_pooling2d_3 (MaxPooling2 (None, 8, 8, 64)          0         \n",
      "_________________________________________________________________\n",
      "conv2d_7 (Conv2D)            (None, 8, 8, 64)          36928     \n",
      "_________________________________________________________________\n",
      "dropout_4 (Dropout)          (None, 8, 8, 64)          0         \n",
      "_________________________________________________________________\n",
      "flatten_1 (Flatten)          (None, 4096)              0         \n",
      "_________________________________________________________________\n",
      "dense_2 (Dense)              (None, 516)               2114052   \n",
      "_________________________________________________________________\n",
      "dropout_5 (Dropout)          (None, 516)               0         \n",
      "_________________________________________________________________\n",
      "dense_3 (Dense)              (None, 10)                5170      \n",
      "=================================================================\n",
      "Total params: 2,184,790\n",
      "Trainable params: 2,184,790\n",
      "Non-trainable params: 0\n",
      "_________________________________________________________________\n"
     ]
    }
   ],
   "source": [
    "#5th question-CNN model\n",
    "#CNN apply a series of filters to the raw pixel data of an image to extract and learn higher-level features, which can be used for classification\n",
    "# Dropout is a regularization method, where the layer randomly replaces a proportion of its weights to zero for each training sample.\n",
    "#Activation layers,introduce non-linear properties to the model\n",
    "#Pooling layers,reduce the dimensionality of the training data/features\n",
    "#Dense (fully connected) layers, performs classification on the features extracted by the convolutional layers and downsampled by the pooling layers. Every node in the layer is connected to every node in the preceding layer.\n",
    "from keras.models import Sequential\n",
    "from keras.layers import Conv2D, Dropout\n",
    "from keras.layers import Dense, Activation, MaxPooling2D\n",
    "from keras.layers import Flatten\n",
    "model = Sequential()\n",
    "model.add(Conv2D(32,(3,3),activation='relu',padding='same', input_shape=x_train.shape[1:]))\n",
    "model.add(MaxPooling2D(pool_size=(2,2)))\n",
    "model.add(Conv2D(32,(3,3), activation='relu', padding='same'))\n",
    "model.add(Dropout(0.25))\n",
    "model.add(Conv2D(64,(3,3), activation='relu', padding='same'))\n",
    "model.add(MaxPooling2D(pool_size=(2,2)))\n",
    "model.add(Conv2D(64,(3,3),activation='relu', padding='same'))\n",
    "model.add(Dropout(0.25))\n",
    "model.add(Flatten())\n",
    "model.add(Dense(516, activation='relu'))\n",
    "model.add(Dropout(0.25))\n",
    "model.add(Dense(10, activation='softmax'))\n",
    "model.summary()"
   ]
  },
  {
   "cell_type": "code",
   "execution_count": 16,
   "metadata": {
    "id": "fAMMWpOegk4h"
   },
   "outputs": [],
   "source": [
    "model.compile(optimizer='rmsprop', loss='categorical_crossentropy', metrics='accuracy')"
   ]
  },
  {
   "cell_type": "code",
   "execution_count": 19,
   "metadata": {
    "colab": {
     "base_uri": "https://localhost:8080/",
     "height": 734
    },
    "id": "D-dYq-SL21VP",
    "outputId": "6094526a-19d2-4193-9538-d99639560386"
   },
   "outputs": [
    {
     "name": "stdout",
     "output_type": "stream",
     "text": [
      "Epoch 1/20\n",
      " 2/10 [=====>........................] - ETA: 0s - loss: 1.2614 - accuracy: 0.5654WARNING:tensorflow:Callbacks method `on_train_batch_end` is slow compared to the batch time (batch time: 0.0323s vs `on_train_batch_end` time: 0.0787s). Check your callbacks.\n",
      "10/10 [==============================] - 1s 140ms/step - loss: 1.1094 - accuracy: 0.6120 - val_loss: 1.1022 - val_accuracy: 0.6162\n",
      "Epoch 2/20\n",
      "10/10 [==============================] - 1s 119ms/step - loss: 1.0624 - accuracy: 0.6270 - val_loss: 1.2309 - val_accuracy: 0.5803\n",
      "Epoch 3/20\n",
      "10/10 [==============================] - 1s 119ms/step - loss: 1.0910 - accuracy: 0.6192 - val_loss: 1.0636 - val_accuracy: 0.6252\n",
      "Epoch 4/20\n",
      "10/10 [==============================] - 1s 118ms/step - loss: 1.0567 - accuracy: 0.6342 - val_loss: 1.1854 - val_accuracy: 0.5914\n",
      "Epoch 5/20\n",
      "10/10 [==============================] - 1s 119ms/step - loss: 1.0451 - accuracy: 0.6388 - val_loss: 1.0440 - val_accuracy: 0.6409\n",
      "Epoch 6/20\n",
      "10/10 [==============================] - 1s 120ms/step - loss: 1.0554 - accuracy: 0.6300 - val_loss: 1.0475 - val_accuracy: 0.6310\n",
      "Epoch 7/20\n",
      "10/10 [==============================] - 1s 121ms/step - loss: 0.9686 - accuracy: 0.6607 - val_loss: 1.0731 - val_accuracy: 0.6324\n",
      "Epoch 8/20\n",
      "10/10 [==============================] - 1s 121ms/step - loss: 1.0476 - accuracy: 0.6341 - val_loss: 1.0724 - val_accuracy: 0.6282\n",
      "Epoch 9/20\n",
      "10/10 [==============================] - 1s 120ms/step - loss: 0.9398 - accuracy: 0.6720 - val_loss: 1.2195 - val_accuracy: 0.5825\n",
      "Epoch 10/20\n",
      "10/10 [==============================] - 1s 121ms/step - loss: 0.9737 - accuracy: 0.6611 - val_loss: 1.3022 - val_accuracy: 0.5475\n",
      "Epoch 11/20\n",
      "10/10 [==============================] - 1s 120ms/step - loss: 0.9966 - accuracy: 0.6546 - val_loss: 1.1379 - val_accuracy: 0.6039\n",
      "Epoch 12/20\n",
      "10/10 [==============================] - 1s 120ms/step - loss: 0.9309 - accuracy: 0.6748 - val_loss: 0.9793 - val_accuracy: 0.6564\n",
      "Epoch 13/20\n",
      "10/10 [==============================] - 1s 119ms/step - loss: 0.9470 - accuracy: 0.6684 - val_loss: 1.0225 - val_accuracy: 0.6440\n",
      "Epoch 14/20\n",
      "10/10 [==============================] - 1s 118ms/step - loss: 0.9247 - accuracy: 0.6785 - val_loss: 0.9728 - val_accuracy: 0.6565\n",
      "Epoch 15/20\n",
      "10/10 [==============================] - 1s 117ms/step - loss: 0.8836 - accuracy: 0.6929 - val_loss: 1.0477 - val_accuracy: 0.6319\n",
      "Epoch 16/20\n",
      "10/10 [==============================] - 1s 120ms/step - loss: 0.9172 - accuracy: 0.6826 - val_loss: 1.0198 - val_accuracy: 0.6590\n",
      "Epoch 17/20\n",
      "10/10 [==============================] - 1s 119ms/step - loss: 0.8678 - accuracy: 0.7013 - val_loss: 1.1046 - val_accuracy: 0.6111\n",
      "Epoch 18/20\n",
      "10/10 [==============================] - 1s 121ms/step - loss: 0.8916 - accuracy: 0.6885 - val_loss: 0.9494 - val_accuracy: 0.6730\n",
      "Epoch 19/20\n",
      "10/10 [==============================] - 1s 120ms/step - loss: 0.8736 - accuracy: 0.6955 - val_loss: 1.0239 - val_accuracy: 0.6426\n",
      "Epoch 20/20\n",
      "10/10 [==============================] - 1s 118ms/step - loss: 0.8363 - accuracy: 0.7072 - val_loss: 1.0229 - val_accuracy: 0.6517\n"
     ]
    }
   ],
   "source": [
    " history=model.fit(x_train,y_train,batch_size=5000, epochs=20, validation_data=(x_test,y_test))"
   ]
  },
  {
   "cell_type": "code",
   "execution_count": 21,
   "metadata": {
    "colab": {
     "base_uri": "https://localhost:8080/",
     "height": 204
    },
    "id": "Y5kTkuHM8mS_",
    "outputId": "494e57d1-39e4-41a8-f031-1e25ffef5fee"
   },
   "outputs": [
    {
     "name": "stdout",
     "output_type": "stream",
     "text": [
      "313/313 - 0s\n",
      "[[771  12  16   4  15   2   8  14 128  30]\n",
      " [ 36 740   5   4   3   1   2   5  84 120]\n",
      " [101   8 503  22 155  28  54  47  57  25]\n",
      " [ 57  24  82 318 129  61 121  52  90  66]\n",
      " [ 52   2  53  18 696   6  52  75  41   5]\n",
      " [ 52   7  81 121  93 360  77  97  75  37]\n",
      " [ 22   7  33  25  93  11 737  16  36  20]\n",
      " [ 34   3  28  11  67  24  15 763  26  29]\n",
      " [ 45  19   3   1   6   2   5   5 893  21]\n",
      " [ 53  86   3   5   6   2   7  13  89 736]]\n"
     ]
    }
   ],
   "source": [
    "from sklearn.metrics import classification_report, confusion_matrix\n",
    "y_pred = model.predict(x_test, verbose=2)\n",
    "y_pred = np.argmax(y_pred, axis=1)\n",
    "cm = confusion_matrix(np.argmax(y_test,axis=1),y_pred)\n",
    "print(cm)"
   ]
  },
  {
   "cell_type": "code",
   "execution_count": 22,
   "metadata": {
    "colab": {
     "base_uri": "https://localhost:8080/",
     "height": 300
    },
    "id": "TTHaeQecZqgW",
    "outputId": "e27d75c6-1d28-4155-a5c8-b1097efd41fe"
   },
   "outputs": [
    {
     "data": {
      "text/plain": [
       "<matplotlib.legend.Legend at 0x7fc8a0c17da0>"
      ]
     },
     "execution_count": 22,
     "metadata": {
      "tags": []
     },
     "output_type": "execute_result"
    },
    {
     "data": {
      "image/png": "[encoded data removed]",
      "text/plain": [
       "<Figure size 432x288 with 1 Axes>"
      ]
     },
     "metadata": {
      "needs_background": "light",
      "tags": []
     },
     "output_type": "display_data"
    }
   ],
   "source": [
    "plt.plot(history.history['accuracy'], label='accuracy')\n",
    "plt.plot(history.history['val_accuracy'], label = 'val_accuracy')\n",
    "plt.xlabel('Epoch')\n",
    "plt.ylabel('Accuracy')\n",
    "plt.ylim([0.5, 1])\n",
    "plt.legend(loc='lower right')"
   ]
  },
  {
   "cell_type": "code",
   "execution_count": 25,
   "metadata": {
    "colab": {
     "base_uri": "https://localhost:8080/",
     "height": 51
    },
    "id": "SnvJZqhNZ_sE",
    "outputId": "1b10dcb0-3ce8-4df0-9b1d-c43b8bc9e649"
   },
   "outputs": [
    {
     "name": "stdout",
     "output_type": "stream",
     "text": [
      "313/313 [==============================] - 1s 3ms/step - loss: 1.0229 - accuracy: 0.6517\n",
      "1563/1563 [==============================] - 4s 3ms/step - loss: 0.7906 - accuracy: 0.7315\n"
     ]
    }
   ],
   "source": [
    "test_loss, test_acc = model.evaluate(x_test, y_test)\n",
    "train_loss , train_acc = model.evaluate(x_train,y_train)"
   ]
  }
 ],
 "metadata": {
  "accelerator": "GPU",
  "colab": {
   "collapsed_sections": [],
   "name": "End Course Test(CNN).ipynb",
   "provenance": []
  },
  "kernelspec": {
   "display_name": "Python 3",
   "language": "python",
   "name": "python3"
  },
  "language_info": {
   "codemirror_mode": {
    "name": "ipython",
    "version": 3
   },
   "file_extension": ".py",
   "mimetype": "text/x-python",
   "name": "python",
   "nbconvert_exporter": "python",
   "pygments_lexer": "ipython3",
   "version": "3.7.4"
  }
 },
 "nbformat": 4,
 "nbformat_minor": 1
}
